{
 "cells": [
  {
   "cell_type": "code",
   "execution_count": 1,
   "metadata": {},
   "outputs": [
    {
     "name": "stderr",
     "output_type": "stream",
     "text": [
      "2024-05-04 01:27:47.146943: I external/local_tsl/tsl/cuda/cudart_stub.cc:31] Could not find cuda drivers on your machine, GPU will not be used.\n",
      "2024-05-04 01:27:47.224390: E external/local_xla/xla/stream_executor/cuda/cuda_dnn.cc:9261] Unable to register cuDNN factory: Attempting to register factory for plugin cuDNN when one has already been registered\n",
      "2024-05-04 01:27:47.224435: E external/local_xla/xla/stream_executor/cuda/cuda_fft.cc:607] Unable to register cuFFT factory: Attempting to register factory for plugin cuFFT when one has already been registered\n",
      "2024-05-04 01:27:47.227506: E external/local_xla/xla/stream_executor/cuda/cuda_blas.cc:1515] Unable to register cuBLAS factory: Attempting to register factory for plugin cuBLAS when one has already been registered\n",
      "2024-05-04 01:27:47.253943: I external/local_tsl/tsl/cuda/cudart_stub.cc:31] Could not find cuda drivers on your machine, GPU will not be used.\n",
      "2024-05-04 01:27:47.256274: I tensorflow/core/platform/cpu_feature_guard.cc:182] This TensorFlow binary is optimized to use available CPU instructions in performance-critical operations.\n",
      "To enable the following instructions: AVX2 FMA, in other operations, rebuild TensorFlow with the appropriate compiler flags.\n",
      "2024-05-04 01:27:49.198718: W tensorflow/compiler/tf2tensorrt/utils/py_utils.cc:38] TF-TRT Warning: Could not find TensorRT\n"
     ]
    }
   ],
   "source": [
    "import pandas as pd\n",
    "from sklearn.model_selection import train_test_split\n",
    "import numpy as np\n",
    "from sklearn.cluster import KMeans\n",
    "from imblearn.under_sampling import EditedNearestNeighbours\n",
    "import tensorflow as tf\n",
    "from tensorflow.keras.optimizers import legacy\n",
    "from tensorflow.keras import layers, Model\n",
    "import pickle\n"
   ]
  },
  {
   "cell_type": "code",
   "execution_count": 2,
   "metadata": {},
   "outputs": [],
   "source": [
    "\n",
    "df = pd.read_csv('pre-processed.csv')"
   ]
  },
  {
   "cell_type": "code",
   "execution_count": 3,
   "metadata": {},
   "outputs": [
    {
     "name": "stdout",
     "output_type": "stream",
     "text": [
      "Final: \n",
      " Benign                      13390249\n",
      "DDOS attack-HOIC              686012\n",
      "DDoS attacks-LOIC-HTTP        576191\n",
      "DoS attacks-Hulk              461912\n",
      "Bot                           286191\n",
      "FTP-BruteForce                193354\n",
      "SSH-Bruteforce                187589\n",
      "Infilteration                 160639\n",
      "DoS attacks-SlowHTTPTest      139890\n",
      "DoS attacks-GoldenEye          41508\n",
      "DoS attacks-Slowloris          10990\n",
      "DDOS attack-LOIC-UDP            1730\n",
      "Brute Force -Web                 611\n",
      "Brute Force -XSS                 230\n",
      "SQL Injection                     87\n",
      "Name: Label, dtype: int64\n"
     ]
    }
   ],
   "source": [
    "print('Final: \\n', df.iloc[:,-1].value_counts())"
   ]
  },
  {
   "cell_type": "code",
   "execution_count": 4,
   "metadata": {},
   "outputs": [
    {
     "name": "stdout",
     "output_type": "stream",
     "text": [
      "['Benign', 'DDOS attack-HOIC', 'DDoS attacks-LOIC-HTTP', 'DoS attacks-Hulk', 'Bot', 'FTP-BruteForce', 'SSH-Bruteforce', 'Infilteration', 'DoS attacks-SlowHTTPTest', 'DoS attacks-GoldenEye', 'DoS attacks-Slowloris']\n"
     ]
    }
   ],
   "source": [
    "# Buoc nay dung de loai bo cac class co nhieu data (du lieu lon), nham muc dich chay demo\n",
    "l = []\n",
    "for lb, cnt in df.iloc[:,-1].value_counts().items():\n",
    "  if cnt > 2000:\n",
    "    l.append(lb)\n",
    "\n",
    "print(l)"
   ]
  },
  {
   "cell_type": "code",
   "execution_count": 5,
   "metadata": {},
   "outputs": [
    {
     "name": "stdout",
     "output_type": "stream",
     "text": [
      "Final: \n",
      " DDOS attack-LOIC-UDP    1730\n",
      "Brute Force -Web         611\n",
      "Brute Force -XSS         230\n",
      "SQL Injection             87\n",
      "Name: Label, dtype: int64\n"
     ]
    }
   ],
   "source": [
    "# Xác định cột nhãn là cột cuối cùng\n",
    "label_column = df.columns[-1]\n",
    "\n",
    "# Cập nhật df bằng cách loại bỏ các dòng có nhãn nằm trong danh sách lbs\n",
    "df = df[~df[label_column].isin(l)]\n",
    "\n",
    "print('Final: \\n', df.iloc[:,-1].value_counts())"
   ]
  },
  {
   "cell_type": "code",
   "execution_count": 6,
   "metadata": {},
   "outputs": [],
   "source": [
    "# Tách dữ liệu thành features (X) và label (y)\n",
    "X = df.iloc[:, :-1]\n",
    "y = df.iloc[:, -1]"
   ]
  },
  {
   "cell_type": "code",
   "execution_count": 7,
   "metadata": {},
   "outputs": [],
   "source": [
    "# Chia dữ liệu thành tập huấn luyện và tập kiểm tra với tỉ lệ 7:3 theo các lớp\n",
    "X_train, X_test, y_train, y_test = train_test_split(X, y, test_size=0.3, stratify=y)"
   ]
  },
  {
   "cell_type": "code",
   "execution_count": 8,
   "metadata": {},
   "outputs": [
    {
     "name": "stdout",
     "output_type": "stream",
     "text": [
      "Kích thước của tập huấn luyện (X_train): (1860, 78)\n",
      "Kích thước của tập kiểm tra (X_test): (798, 78)\n",
      "Kích thước của tập huấn luyện (y_train): (1860,)\n",
      "Kích thước của tập kiểm tra (y_test): (798,)\n"
     ]
    }
   ],
   "source": [
    "print(\"Kích thước của tập huấn luyện (X_train):\", X_train.shape)\n",
    "print(\"Kích thước của tập kiểm tra (X_test):\", X_test.shape)\n",
    "print(\"Kích thước của tập huấn luyện (y_train):\", y_train.shape)\n",
    "print(\"Kích thước của tập kiểm tra (y_test):\", y_test.shape)"
   ]
  },
  {
   "cell_type": "code",
   "execution_count": 9,
   "metadata": {},
   "outputs": [
    {
     "name": "stdout",
     "output_type": "stream",
     "text": [
      "Số lượng mẫu của mỗi lớp trong tập huấn luyện:\n",
      "DDOS attack-LOIC-UDP    1211\n",
      "Brute Force -Web         427\n",
      "Brute Force -XSS         161\n",
      "SQL Injection             61\n",
      "Name: Label, dtype: int64\n",
      "\n",
      "Số lượng mẫu của mỗi lớp trong tập kiểm tra:\n",
      "DDOS attack-LOIC-UDP    519\n",
      "Brute Force -Web        184\n",
      "Brute Force -XSS         69\n",
      "SQL Injection            26\n",
      "Name: Label, dtype: int64\n"
     ]
    }
   ],
   "source": [
    "# Đếm số lượng mẫu của mỗi lớp trong tập huấn luyện (X_train)\n",
    "class_counts_train = y_train.value_counts()\n",
    "\n",
    "# Đếm số lượng mẫu của mỗi lớp trong tập kiểm tra (X_test)\n",
    "class_counts_test = y_test.value_counts()\n",
    "\n",
    "# In số lượng mẫu của mỗi lớp trong tập huấn luyện và tập kiểm tra\n",
    "print(\"Số lượng mẫu của mỗi lớp trong tập huấn luyện:\")\n",
    "print(class_counts_train)\n",
    "print(\"\\nSố lượng mẫu của mỗi lớp trong tập kiểm tra:\")\n",
    "print(class_counts_test)"
   ]
  },
  {
   "cell_type": "code",
   "execution_count": 10,
   "metadata": {},
   "outputs": [
    {
     "name": "stdout",
     "output_type": "stream",
     "text": [
      "['Brute Force -XSS', 'SQL Injection']\n",
      "['DDOS attack-LOIC-UDP', 'Brute Force -Web']\n"
     ]
    }
   ],
   "source": [
    "t = 400 # Maximum number in a label\n",
    "# Lay danh sach cac class thuoc minority va majority\n",
    "Smin = []\n",
    "Smaj = []\n",
    "\n",
    "for label, cnt in class_counts_train.items():\n",
    "  if cnt >= (t * 0.7): # trainset:testset = 7:3\n",
    "    Smaj.append(label)\n",
    "  else:\n",
    "    Smin.append(label)\n",
    "\n",
    "print(Smin)\n",
    "print(Smaj)"
   ]
  },
  {
   "cell_type": "code",
   "execution_count": 11,
   "metadata": {},
   "outputs": [
    {
     "name": "stdout",
     "output_type": "stream",
     "text": [
      "ENN\n"
     ]
    },
    {
     "name": "stderr",
     "output_type": "stream",
     "text": [
      "Exception ignored on calling ctypes callback function: <function _ThreadpoolInfo._find_modules_with_dl_iterate_phdr.<locals>.match_module_callback at 0x7f36c1665550>\n",
      "Traceback (most recent call last):\n",
      "  File \"/home/haohao/miniconda3/envs/tf/lib/python3.9/site-packages/threadpoolctl.py\", line 400, in match_module_callback\n",
      "    self._make_module_from_path(filepath)\n",
      "  File \"/home/haohao/miniconda3/envs/tf/lib/python3.9/site-packages/threadpoolctl.py\", line 515, in _make_module_from_path\n",
      "    module = module_class(filepath, prefix, user_api, internal_api)\n",
      "  File \"/home/haohao/miniconda3/envs/tf/lib/python3.9/site-packages/threadpoolctl.py\", line 606, in __init__\n",
      "    self.version = self.get_version()\n",
      "  File \"/home/haohao/miniconda3/envs/tf/lib/python3.9/site-packages/threadpoolctl.py\", line 646, in get_version\n",
      "    config = get_config().split()\n",
      "AttributeError: 'NoneType' object has no attribute 'split'\n",
      "/home/haohao/miniconda3/envs/tf/lib/python3.9/site-packages/sklearn/cluster/_kmeans.py:870: FutureWarning: The default value of `n_init` will change from 10 to 'auto' in 1.4. Set the value of `n_init` explicitly to suppress the warning\n",
      "  warnings.warn(\n",
      "Exception ignored on calling ctypes callback function: <function _ThreadpoolInfo._find_modules_with_dl_iterate_phdr.<locals>.match_module_callback at 0x7f36bbdecca0>\n",
      "Traceback (most recent call last):\n",
      "  File \"/home/haohao/miniconda3/envs/tf/lib/python3.9/site-packages/threadpoolctl.py\", line 400, in match_module_callback\n",
      "    self._make_module_from_path(filepath)\n",
      "  File \"/home/haohao/miniconda3/envs/tf/lib/python3.9/site-packages/threadpoolctl.py\", line 515, in _make_module_from_path\n",
      "    module = module_class(filepath, prefix, user_api, internal_api)\n",
      "  File \"/home/haohao/miniconda3/envs/tf/lib/python3.9/site-packages/threadpoolctl.py\", line 606, in __init__\n",
      "    self.version = self.get_version()\n",
      "  File \"/home/haohao/miniconda3/envs/tf/lib/python3.9/site-packages/threadpoolctl.py\", line 646, in get_version\n",
      "    config = get_config().split()\n",
      "AttributeError: 'NoneType' object has no attribute 'split'\n",
      "Exception ignored on calling ctypes callback function: <function _ThreadpoolInfo._find_modules_with_dl_iterate_phdr.<locals>.match_module_callback at 0x7f36bbd6dd30>\n",
      "Traceback (most recent call last):\n",
      "  File \"/home/haohao/miniconda3/envs/tf/lib/python3.9/site-packages/threadpoolctl.py\", line 400, in match_module_callback\n",
      "    self._make_module_from_path(filepath)\n",
      "  File \"/home/haohao/miniconda3/envs/tf/lib/python3.9/site-packages/threadpoolctl.py\", line 515, in _make_module_from_path\n",
      "    module = module_class(filepath, prefix, user_api, internal_api)\n",
      "  File \"/home/haohao/miniconda3/envs/tf/lib/python3.9/site-packages/threadpoolctl.py\", line 606, in __init__\n",
      "    self.version = self.get_version()\n",
      "  File \"/home/haohao/miniconda3/envs/tf/lib/python3.9/site-packages/threadpoolctl.py\", line 646, in get_version\n",
      "    config = get_config().split()\n",
      "AttributeError: 'NoneType' object has no attribute 'split'\n",
      "Exception ignored on calling ctypes callback function: <function _ThreadpoolInfo._find_modules_with_dl_iterate_phdr.<locals>.match_module_callback at 0x7f36bbd6dd30>\n",
      "Traceback (most recent call last):\n",
      "  File \"/home/haohao/miniconda3/envs/tf/lib/python3.9/site-packages/threadpoolctl.py\", line 400, in match_module_callback\n",
      "    self._make_module_from_path(filepath)\n",
      "  File \"/home/haohao/miniconda3/envs/tf/lib/python3.9/site-packages/threadpoolctl.py\", line 515, in _make_module_from_path\n",
      "    module = module_class(filepath, prefix, user_api, internal_api)\n",
      "  File \"/home/haohao/miniconda3/envs/tf/lib/python3.9/site-packages/threadpoolctl.py\", line 606, in __init__\n",
      "    self.version = self.get_version()\n",
      "  File \"/home/haohao/miniconda3/envs/tf/lib/python3.9/site-packages/threadpoolctl.py\", line 646, in get_version\n",
      "    config = get_config().split()\n",
      "AttributeError: 'NoneType' object has no attribute 'split'\n",
      "Exception ignored on calling ctypes callback function: <function _ThreadpoolInfo._find_modules_with_dl_iterate_phdr.<locals>.match_module_callback at 0x7f36bbd6dd30>\n",
      "Traceback (most recent call last):\n",
      "  File \"/home/haohao/miniconda3/envs/tf/lib/python3.9/site-packages/threadpoolctl.py\", line 400, in match_module_callback\n",
      "    self._make_module_from_path(filepath)\n",
      "  File \"/home/haohao/miniconda3/envs/tf/lib/python3.9/site-packages/threadpoolctl.py\", line 515, in _make_module_from_path\n",
      "    module = module_class(filepath, prefix, user_api, internal_api)\n",
      "  File \"/home/haohao/miniconda3/envs/tf/lib/python3.9/site-packages/threadpoolctl.py\", line 606, in __init__\n",
      "    self.version = self.get_version()\n",
      "  File \"/home/haohao/miniconda3/envs/tf/lib/python3.9/site-packages/threadpoolctl.py\", line 646, in get_version\n",
      "    config = get_config().split()\n",
      "AttributeError: 'NoneType' object has no attribute 'split'\n",
      "Exception ignored on calling ctypes callback function: <function _ThreadpoolInfo._find_modules_with_dl_iterate_phdr.<locals>.match_module_callback at 0x7f36bbdecca0>\n",
      "Traceback (most recent call last):\n",
      "  File \"/home/haohao/miniconda3/envs/tf/lib/python3.9/site-packages/threadpoolctl.py\", line 400, in match_module_callback\n",
      "    self._make_module_from_path(filepath)\n",
      "  File \"/home/haohao/miniconda3/envs/tf/lib/python3.9/site-packages/threadpoolctl.py\", line 515, in _make_module_from_path\n",
      "    module = module_class(filepath, prefix, user_api, internal_api)\n",
      "  File \"/home/haohao/miniconda3/envs/tf/lib/python3.9/site-packages/threadpoolctl.py\", line 606, in __init__\n",
      "    self.version = self.get_version()\n",
      "  File \"/home/haohao/miniconda3/envs/tf/lib/python3.9/site-packages/threadpoolctl.py\", line 646, in get_version\n",
      "    config = get_config().split()\n",
      "AttributeError: 'NoneType' object has no attribute 'split'\n",
      "Exception ignored on calling ctypes callback function: <function _ThreadpoolInfo._find_modules_with_dl_iterate_phdr.<locals>.match_module_callback at 0x7f36bbd6dd30>\n",
      "Traceback (most recent call last):\n",
      "  File \"/home/haohao/miniconda3/envs/tf/lib/python3.9/site-packages/threadpoolctl.py\", line 400, in match_module_callback\n",
      "    self._make_module_from_path(filepath)\n",
      "  File \"/home/haohao/miniconda3/envs/tf/lib/python3.9/site-packages/threadpoolctl.py\", line 515, in _make_module_from_path\n",
      "    module = module_class(filepath, prefix, user_api, internal_api)\n",
      "  File \"/home/haohao/miniconda3/envs/tf/lib/python3.9/site-packages/threadpoolctl.py\", line 606, in __init__\n",
      "    self.version = self.get_version()\n",
      "  File \"/home/haohao/miniconda3/envs/tf/lib/python3.9/site-packages/threadpoolctl.py\", line 646, in get_version\n",
      "    config = get_config().split()\n",
      "AttributeError: 'NoneType' object has no attribute 'split'\n"
     ]
    },
    {
     "name": "stdout",
     "output_type": "stream",
     "text": [
      "Label:  DDOS attack-LOIC-UDP\n",
      "Clustering\n"
     ]
    },
    {
     "name": "stderr",
     "output_type": "stream",
     "text": [
      "Exception ignored on calling ctypes callback function: <function _ThreadpoolInfo._find_modules_with_dl_iterate_phdr.<locals>.match_module_callback at 0x7f373e27fc10>\n",
      "Traceback (most recent call last):\n",
      "  File \"/home/haohao/miniconda3/envs/tf/lib/python3.9/site-packages/threadpoolctl.py\", line 400, in match_module_callback\n",
      "    self._make_module_from_path(filepath)\n",
      "  File \"/home/haohao/miniconda3/envs/tf/lib/python3.9/site-packages/threadpoolctl.py\", line 515, in _make_module_from_path\n",
      "    module = module_class(filepath, prefix, user_api, internal_api)\n",
      "  File \"/home/haohao/miniconda3/envs/tf/lib/python3.9/site-packages/threadpoolctl.py\", line 606, in __init__\n",
      "    self.version = self.get_version()\n",
      "  File \"/home/haohao/miniconda3/envs/tf/lib/python3.9/site-packages/threadpoolctl.py\", line 646, in get_version\n",
      "    config = get_config().split()\n",
      "AttributeError: 'NoneType' object has no attribute 'split'\n",
      "Exception ignored on calling ctypes callback function: <function _ThreadpoolInfo._find_modules_with_dl_iterate_phdr.<locals>.match_module_callback at 0x7f373e27fc10>\n",
      "Traceback (most recent call last):\n",
      "  File \"/home/haohao/miniconda3/envs/tf/lib/python3.9/site-packages/threadpoolctl.py\", line 400, in match_module_callback\n",
      "    self._make_module_from_path(filepath)\n",
      "  File \"/home/haohao/miniconda3/envs/tf/lib/python3.9/site-packages/threadpoolctl.py\", line 515, in _make_module_from_path\n",
      "    module = module_class(filepath, prefix, user_api, internal_api)\n",
      "  File \"/home/haohao/miniconda3/envs/tf/lib/python3.9/site-packages/threadpoolctl.py\", line 606, in __init__\n",
      "    self.version = self.get_version()\n",
      "  File \"/home/haohao/miniconda3/envs/tf/lib/python3.9/site-packages/threadpoolctl.py\", line 646, in get_version\n",
      "    config = get_config().split()\n",
      "AttributeError: 'NoneType' object has no attribute 'split'\n",
      "Exception ignored on calling ctypes callback function: <function _ThreadpoolInfo._find_modules_with_dl_iterate_phdr.<locals>.match_module_callback at 0x7f373e27fc10>\n",
      "Traceback (most recent call last):\n",
      "  File \"/home/haohao/miniconda3/envs/tf/lib/python3.9/site-packages/threadpoolctl.py\", line 400, in match_module_callback\n",
      "    self._make_module_from_path(filepath)\n",
      "  File \"/home/haohao/miniconda3/envs/tf/lib/python3.9/site-packages/threadpoolctl.py\", line 515, in _make_module_from_path\n",
      "    module = module_class(filepath, prefix, user_api, internal_api)\n",
      "  File \"/home/haohao/miniconda3/envs/tf/lib/python3.9/site-packages/threadpoolctl.py\", line 606, in __init__\n",
      "    self.version = self.get_version()\n",
      "  File \"/home/haohao/miniconda3/envs/tf/lib/python3.9/site-packages/threadpoolctl.py\", line 646, in get_version\n",
      "    config = get_config().split()\n",
      "AttributeError: 'NoneType' object has no attribute 'split'\n",
      "Exception ignored on calling ctypes callback function: <function _ThreadpoolInfo._find_modules_with_dl_iterate_phdr.<locals>.match_module_callback at 0x7f36bbdecdc0>\n",
      "Traceback (most recent call last):\n",
      "  File \"/home/haohao/miniconda3/envs/tf/lib/python3.9/site-packages/threadpoolctl.py\", line 400, in match_module_callback\n",
      "    self._make_module_from_path(filepath)\n",
      "  File \"/home/haohao/miniconda3/envs/tf/lib/python3.9/site-packages/threadpoolctl.py\", line 515, in _make_module_from_path\n",
      "    module = module_class(filepath, prefix, user_api, internal_api)\n",
      "  File \"/home/haohao/miniconda3/envs/tf/lib/python3.9/site-packages/threadpoolctl.py\", line 606, in __init__\n",
      "    self.version = self.get_version()\n",
      "  File \"/home/haohao/miniconda3/envs/tf/lib/python3.9/site-packages/threadpoolctl.py\", line 646, in get_version\n",
      "    config = get_config().split()\n",
      "AttributeError: 'NoneType' object has no attribute 'split'\n",
      "/home/haohao/miniconda3/envs/tf/lib/python3.9/site-packages/sklearn/cluster/_kmeans.py:870: FutureWarning: The default value of `n_init` will change from 10 to 'auto' in 1.4. Set the value of `n_init` explicitly to suppress the warning\n",
      "  warnings.warn(\n",
      "Exception ignored on calling ctypes callback function: <function _ThreadpoolInfo._find_modules_with_dl_iterate_phdr.<locals>.match_module_callback at 0x7f36bbdecd30>\n",
      "Traceback (most recent call last):\n",
      "  File \"/home/haohao/miniconda3/envs/tf/lib/python3.9/site-packages/threadpoolctl.py\", line 400, in match_module_callback\n",
      "    self._make_module_from_path(filepath)\n",
      "  File \"/home/haohao/miniconda3/envs/tf/lib/python3.9/site-packages/threadpoolctl.py\", line 515, in _make_module_from_path\n",
      "    module = module_class(filepath, prefix, user_api, internal_api)\n",
      "  File \"/home/haohao/miniconda3/envs/tf/lib/python3.9/site-packages/threadpoolctl.py\", line 606, in __init__\n",
      "    self.version = self.get_version()\n",
      "  File \"/home/haohao/miniconda3/envs/tf/lib/python3.9/site-packages/threadpoolctl.py\", line 646, in get_version\n",
      "    config = get_config().split()\n",
      "AttributeError: 'NoneType' object has no attribute 'split'\n",
      "Exception ignored on calling ctypes callback function: <function _ThreadpoolInfo._find_modules_with_dl_iterate_phdr.<locals>.match_module_callback at 0x7f373e27fc10>\n",
      "Traceback (most recent call last):\n",
      "  File \"/home/haohao/miniconda3/envs/tf/lib/python3.9/site-packages/threadpoolctl.py\", line 400, in match_module_callback\n",
      "    self._make_module_from_path(filepath)\n",
      "  File \"/home/haohao/miniconda3/envs/tf/lib/python3.9/site-packages/threadpoolctl.py\", line 515, in _make_module_from_path\n",
      "    module = module_class(filepath, prefix, user_api, internal_api)\n",
      "  File \"/home/haohao/miniconda3/envs/tf/lib/python3.9/site-packages/threadpoolctl.py\", line 606, in __init__\n",
      "    self.version = self.get_version()\n",
      "  File \"/home/haohao/miniconda3/envs/tf/lib/python3.9/site-packages/threadpoolctl.py\", line 646, in get_version\n",
      "    config = get_config().split()\n",
      "AttributeError: 'NoneType' object has no attribute 'split'\n",
      "Exception ignored on calling ctypes callback function: <function _ThreadpoolInfo._find_modules_with_dl_iterate_phdr.<locals>.match_module_callback at 0x7f36bbdecca0>\n",
      "Traceback (most recent call last):\n",
      "  File \"/home/haohao/miniconda3/envs/tf/lib/python3.9/site-packages/threadpoolctl.py\", line 400, in match_module_callback\n",
      "    self._make_module_from_path(filepath)\n",
      "  File \"/home/haohao/miniconda3/envs/tf/lib/python3.9/site-packages/threadpoolctl.py\", line 515, in _make_module_from_path\n",
      "    module = module_class(filepath, prefix, user_api, internal_api)\n",
      "  File \"/home/haohao/miniconda3/envs/tf/lib/python3.9/site-packages/threadpoolctl.py\", line 606, in __init__\n",
      "    self.version = self.get_version()\n",
      "  File \"/home/haohao/miniconda3/envs/tf/lib/python3.9/site-packages/threadpoolctl.py\", line 646, in get_version\n",
      "    config = get_config().split()\n",
      "AttributeError: 'NoneType' object has no attribute 'split'\n",
      "Exception ignored on calling ctypes callback function: <function _ThreadpoolInfo._find_modules_with_dl_iterate_phdr.<locals>.match_module_callback at 0x7f36bbdecdc0>\n",
      "Traceback (most recent call last):\n",
      "  File \"/home/haohao/miniconda3/envs/tf/lib/python3.9/site-packages/threadpoolctl.py\", line 400, in match_module_callback\n",
      "    self._make_module_from_path(filepath)\n",
      "  File \"/home/haohao/miniconda3/envs/tf/lib/python3.9/site-packages/threadpoolctl.py\", line 515, in _make_module_from_path\n",
      "    module = module_class(filepath, prefix, user_api, internal_api)\n",
      "  File \"/home/haohao/miniconda3/envs/tf/lib/python3.9/site-packages/threadpoolctl.py\", line 606, in __init__\n",
      "    self.version = self.get_version()\n",
      "  File \"/home/haohao/miniconda3/envs/tf/lib/python3.9/site-packages/threadpoolctl.py\", line 646, in get_version\n",
      "    config = get_config().split()\n",
      "AttributeError: 'NoneType' object has no attribute 'split'\n",
      "Exception ignored on calling ctypes callback function: <function _ThreadpoolInfo._find_modules_with_dl_iterate_phdr.<locals>.match_module_callback at 0x7f373e27fc10>\n",
      "Traceback (most recent call last):\n",
      "  File \"/home/haohao/miniconda3/envs/tf/lib/python3.9/site-packages/threadpoolctl.py\", line 400, in match_module_callback\n",
      "    self._make_module_from_path(filepath)\n",
      "  File \"/home/haohao/miniconda3/envs/tf/lib/python3.9/site-packages/threadpoolctl.py\", line 515, in _make_module_from_path\n",
      "    module = module_class(filepath, prefix, user_api, internal_api)\n",
      "  File \"/home/haohao/miniconda3/envs/tf/lib/python3.9/site-packages/threadpoolctl.py\", line 606, in __init__\n",
      "    self.version = self.get_version()\n",
      "  File \"/home/haohao/miniconda3/envs/tf/lib/python3.9/site-packages/threadpoolctl.py\", line 646, in get_version\n",
      "    config = get_config().split()\n",
      "AttributeError: 'NoneType' object has no attribute 'split'\n",
      "Exception ignored on calling ctypes callback function: <function _ThreadpoolInfo._find_modules_with_dl_iterate_phdr.<locals>.match_module_callback at 0x7f373e27fc10>\n",
      "Traceback (most recent call last):\n",
      "  File \"/home/haohao/miniconda3/envs/tf/lib/python3.9/site-packages/threadpoolctl.py\", line 400, in match_module_callback\n",
      "    self._make_module_from_path(filepath)\n",
      "  File \"/home/haohao/miniconda3/envs/tf/lib/python3.9/site-packages/threadpoolctl.py\", line 515, in _make_module_from_path\n",
      "    module = module_class(filepath, prefix, user_api, internal_api)\n",
      "  File \"/home/haohao/miniconda3/envs/tf/lib/python3.9/site-packages/threadpoolctl.py\", line 606, in __init__\n",
      "    self.version = self.get_version()\n",
      "  File \"/home/haohao/miniconda3/envs/tf/lib/python3.9/site-packages/threadpoolctl.py\", line 646, in get_version\n",
      "    config = get_config().split()\n",
      "AttributeError: 'NoneType' object has no attribute 'split'\n",
      "Exception ignored on calling ctypes callback function: <function _ThreadpoolInfo._find_modules_with_dl_iterate_phdr.<locals>.match_module_callback at 0x7f36bbdece50>\n",
      "Traceback (most recent call last):\n",
      "  File \"/home/haohao/miniconda3/envs/tf/lib/python3.9/site-packages/threadpoolctl.py\", line 400, in match_module_callback\n",
      "    self._make_module_from_path(filepath)\n",
      "  File \"/home/haohao/miniconda3/envs/tf/lib/python3.9/site-packages/threadpoolctl.py\", line 515, in _make_module_from_path\n",
      "    module = module_class(filepath, prefix, user_api, internal_api)\n",
      "  File \"/home/haohao/miniconda3/envs/tf/lib/python3.9/site-packages/threadpoolctl.py\", line 606, in __init__\n",
      "    self.version = self.get_version()\n",
      "  File \"/home/haohao/miniconda3/envs/tf/lib/python3.9/site-packages/threadpoolctl.py\", line 646, in get_version\n",
      "    config = get_config().split()\n",
      "AttributeError: 'NoneType' object has no attribute 'split'\n",
      "Exception ignored on calling ctypes callback function: <function _ThreadpoolInfo._find_modules_with_dl_iterate_phdr.<locals>.match_module_callback at 0x7f36bbdecca0>\n",
      "Traceback (most recent call last):\n",
      "  File \"/home/haohao/miniconda3/envs/tf/lib/python3.9/site-packages/threadpoolctl.py\", line 400, in match_module_callback\n",
      "    self._make_module_from_path(filepath)\n",
      "  File \"/home/haohao/miniconda3/envs/tf/lib/python3.9/site-packages/threadpoolctl.py\", line 515, in _make_module_from_path\n",
      "    module = module_class(filepath, prefix, user_api, internal_api)\n",
      "  File \"/home/haohao/miniconda3/envs/tf/lib/python3.9/site-packages/threadpoolctl.py\", line 606, in __init__\n",
      "    self.version = self.get_version()\n",
      "  File \"/home/haohao/miniconda3/envs/tf/lib/python3.9/site-packages/threadpoolctl.py\", line 646, in get_version\n",
      "    config = get_config().split()\n",
      "AttributeError: 'NoneType' object has no attribute 'split'\n"
     ]
    },
    {
     "name": "stdout",
     "output_type": "stream",
     "text": [
      "not enough\n",
      "not enough\n",
      "Compressing\n",
      "Cluster  0\n",
      "Cluster  1\n",
      "Cluster  2\n",
      "Cluster  3\n",
      "Label:  Brute Force -Web\n",
      "Clustering\n"
     ]
    },
    {
     "name": "stderr",
     "output_type": "stream",
     "text": [
      "Exception ignored on calling ctypes callback function: <function _ThreadpoolInfo._find_modules_with_dl_iterate_phdr.<locals>.match_module_callback at 0x7f36bbd6dd30>\n",
      "Traceback (most recent call last):\n",
      "  File \"/home/haohao/miniconda3/envs/tf/lib/python3.9/site-packages/threadpoolctl.py\", line 400, in match_module_callback\n",
      "    self._make_module_from_path(filepath)\n",
      "  File \"/home/haohao/miniconda3/envs/tf/lib/python3.9/site-packages/threadpoolctl.py\", line 515, in _make_module_from_path\n",
      "    module = module_class(filepath, prefix, user_api, internal_api)\n",
      "  File \"/home/haohao/miniconda3/envs/tf/lib/python3.9/site-packages/threadpoolctl.py\", line 606, in __init__\n",
      "    self.version = self.get_version()\n",
      "  File \"/home/haohao/miniconda3/envs/tf/lib/python3.9/site-packages/threadpoolctl.py\", line 646, in get_version\n",
      "    config = get_config().split()\n",
      "AttributeError: 'NoneType' object has no attribute 'split'\n",
      "Exception ignored on calling ctypes callback function: <function _ThreadpoolInfo._find_modules_with_dl_iterate_phdr.<locals>.match_module_callback at 0x7f36bbdecee0>\n",
      "Traceback (most recent call last):\n",
      "  File \"/home/haohao/miniconda3/envs/tf/lib/python3.9/site-packages/threadpoolctl.py\", line 400, in match_module_callback\n",
      "    self._make_module_from_path(filepath)\n",
      "  File \"/home/haohao/miniconda3/envs/tf/lib/python3.9/site-packages/threadpoolctl.py\", line 515, in _make_module_from_path\n",
      "    module = module_class(filepath, prefix, user_api, internal_api)\n",
      "  File \"/home/haohao/miniconda3/envs/tf/lib/python3.9/site-packages/threadpoolctl.py\", line 606, in __init__\n",
      "    self.version = self.get_version()\n",
      "  File \"/home/haohao/miniconda3/envs/tf/lib/python3.9/site-packages/threadpoolctl.py\", line 646, in get_version\n",
      "    config = get_config().split()\n",
      "AttributeError: 'NoneType' object has no attribute 'split'\n",
      "Exception ignored on calling ctypes callback function: <function _ThreadpoolInfo._find_modules_with_dl_iterate_phdr.<locals>.match_module_callback at 0x7f36bbdece50>\n",
      "Traceback (most recent call last):\n",
      "  File \"/home/haohao/miniconda3/envs/tf/lib/python3.9/site-packages/threadpoolctl.py\", line 400, in match_module_callback\n",
      "    self._make_module_from_path(filepath)\n",
      "  File \"/home/haohao/miniconda3/envs/tf/lib/python3.9/site-packages/threadpoolctl.py\", line 515, in _make_module_from_path\n",
      "    module = module_class(filepath, prefix, user_api, internal_api)\n",
      "  File \"/home/haohao/miniconda3/envs/tf/lib/python3.9/site-packages/threadpoolctl.py\", line 606, in __init__\n",
      "    self.version = self.get_version()\n",
      "  File \"/home/haohao/miniconda3/envs/tf/lib/python3.9/site-packages/threadpoolctl.py\", line 646, in get_version\n",
      "    config = get_config().split()\n",
      "AttributeError: 'NoneType' object has no attribute 'split'\n"
     ]
    },
    {
     "name": "stdout",
     "output_type": "stream",
     "text": [
      "not enough\n",
      "not enough\n",
      "not enough\n",
      "Compressing\n",
      "Cluster  0\n",
      "Cluster  1\n",
      "Cluster  2\n",
      "Cluster  3\n",
      "Số lượng mẫu cuối cùng được chọn:  560\n"
     ]
    }
   ],
   "source": [
    "# Số lượng cụm và tổng số mẫu cần lấy từ mỗi lớp\n",
    "n_clusters = 4 # Num of classes\n",
    "samples_needed_per_class = 280 # t * 0.7\n",
    "\n",
    "# Khởi tạo một list để lưu các cụm và nhãn sau khi xử lý\n",
    "selected_samples_X = []\n",
    "selected_samples_y = []\n",
    "\n",
    "# Lọc ra các mẫu dữ liệu chỉ thuộc các nhãn trong Smaj\n",
    "majority_mask = np.isin(y_train, Smaj)\n",
    "X_majority = X_train[majority_mask]\n",
    "y_majority = y_train[majority_mask]\n",
    "\n",
    "print('ENN')\n",
    "# Áp dụng ENN để loại bỏ nhiễu\n",
    "enn = EditedNearestNeighbours()\n",
    "X_enn, y_enn = enn.fit_resample(X_majority, y_majority)\n",
    "\n",
    "# Duyệt qua từng nhãn trong nhãn đã làm sạch\n",
    "for label in Smaj:\n",
    "    print('Label: ', label)\n",
    "    label_mask = y_enn == label\n",
    "    X_label = X_enn[label_mask]\n",
    "    \n",
    "    # Áp dụng k-means trên dữ liệu đã làm sạch cho mỗi nhãn\n",
    "    if len(X_label) > 1:  # Kiểm tra có đủ dữ liệu để phân cụm không\n",
    "        print('Clustering')\n",
    "        kmeans = KMeans(n_clusters=n_clusters, random_state=0)\n",
    "        kmeans.fit(X_label)\n",
    "        labels = kmeans.labels_\n",
    "\n",
    "        # Tính số mẫu cần lấy từ mỗi cụm\n",
    "        cluster_counts = np.bincount(labels, minlength=n_clusters)\n",
    "        cluster_ratios = cluster_counts / cluster_counts.sum()\n",
    "        samples_per_cluster = np.floor(cluster_ratios * samples_needed_per_class).astype(int)\n",
    "\n",
    "        # Đảm bảo rằng tổng số mẫu đúng bằng 16000, điều chỉnh nếu cần\n",
    "        while samples_per_cluster.sum() < samples_needed_per_class:\n",
    "            print('not enough')\n",
    "            samples_per_cluster[np.argmax(cluster_counts - samples_per_cluster)] += 1\n",
    "\n",
    "        print('Compressing')\n",
    "        # Lấy mẫu từ mỗi cụm\n",
    "        for cluster in range(n_clusters):\n",
    "            print('Cluster ', cluster)\n",
    "\n",
    "            cluster_mask = labels == cluster\n",
    "            X_cluster = X_label[cluster_mask]\n",
    "            \n",
    "            if len(X_cluster) > 0:\n",
    "\n",
    "                # Chọn ngẫu nhiên các mẫu từ cụm\n",
    "                if len(X_cluster) > samples_per_cluster[cluster]:\n",
    "                    indices = np.random.choice(len(X_cluster), samples_per_cluster[cluster], replace=False)\n",
    "                    selected_samples_X.append(X_cluster.iloc[indices])\n",
    "                    selected_samples_y.extend([label] * samples_per_cluster[cluster])\n",
    "                else:\n",
    "                    selected_samples_X.append(X_cluster)\n",
    "                    selected_samples_y.extend([label] * len(X_cluster))\n",
    "\n",
    "# Tạo tập dữ liệu cuối cùng từ các mẫu đã chọn\n",
    "X_train_balanced = np.vstack(selected_samples_X)\n",
    "y_train_balanced = np.array(selected_samples_y)\n",
    "\n",
    "print(\"Số lượng mẫu cuối cùng được chọn: \", X_train_balanced.shape[0])\n"
   ]
  },
  {
   "cell_type": "code",
   "execution_count": 12,
   "metadata": {},
   "outputs": [
    {
     "name": "stdout",
     "output_type": "stream",
     "text": [
      "Brute Force -Web: 280\n",
      "DDOS attack-LOIC-UDP: 280\n"
     ]
    }
   ],
   "source": [
    "unique_values, counts = np.unique(y_train_balanced, return_counts=True)\n",
    "\n",
    "# Hiển thị các giá trị và tần suất xuất hiện tương ứng\n",
    "for value, count in zip(unique_values, counts):\n",
    "    print(f'{value}: {count}')"
   ]
  },
  {
   "cell_type": "code",
   "execution_count": 13,
   "metadata": {},
   "outputs": [
    {
     "name": "stderr",
     "output_type": "stream",
     "text": [
      "/home/haohao/miniconda3/envs/tf/lib/python3.9/site-packages/keras/src/optimizers/legacy/rmsprop.py:144: UserWarning: The `lr` argument is deprecated, use `learning_rate` instead.\n",
      "  super().__init__(name, **kwargs)\n"
     ]
    },
    {
     "name": "stdout",
     "output_type": "stream",
     "text": [
      "1/1 [==============================] - 0s 241ms/step\n",
      "1/1 [==============================] - 0s 26ms/step\n",
      "1/1 [==============================] - 0s 25ms/step\n",
      "1/1 [==============================] - 0s 27ms/step\n",
      "1/1 [==============================] - 0s 23ms/step\n",
      "1/1 [==============================] - 0s 23ms/step\n",
      "1/1 [==============================] - 0s 23ms/step\n",
      "1/1 [==============================] - 0s 25ms/step\n",
      "1/1 [==============================] - 0s 23ms/step\n",
      "1/1 [==============================] - 0s 22ms/step\n",
      "4/4 [==============================] - 0s 3ms/step\n"
     ]
    },
    {
     "name": "stderr",
     "output_type": "stream",
     "text": [
      "/home/haohao/miniconda3/envs/tf/lib/python3.9/site-packages/keras/src/optimizers/legacy/rmsprop.py:144: UserWarning: The `lr` argument is deprecated, use `learning_rate` instead.\n",
      "  super().__init__(name, **kwargs)\n"
     ]
    },
    {
     "name": "stdout",
     "output_type": "stream",
     "text": [
      "1/1 [==============================] - 0s 122ms/step\n",
      "1/1 [==============================] - 0s 24ms/step\n",
      "1/1 [==============================] - 0s 28ms/step\n",
      "1/1 [==============================] - 0s 26ms/step\n",
      "1/1 [==============================] - 0s 25ms/step\n",
      "1/1 [==============================] - 0s 25ms/step\n",
      "1/1 [==============================] - 0s 25ms/step\n",
      "1/1 [==============================] - 0s 25ms/step\n",
      "1/1 [==============================] - 0s 25ms/step\n",
      "1/1 [==============================] - 0s 27ms/step\n",
      "7/7 [==============================] - 0s 3ms/step\n"
     ]
    }
   ],
   "source": [
    "# Khai báo các hằng số\n",
    "BATCH_SIZE = 32\n",
    "LATENT_DIM = 128\n",
    "NUM_EPOCHS = 10\n",
    "SAMPLES_TO_GENERATE = int(t * 0.7)\n",
    "\n",
    "# Định nghĩa mô hình Generator\n",
    "def build_generator():\n",
    "    noise = layers.Input(shape=(LATENT_DIM,))\n",
    "    x = layers.Dense(256, activation=\"relu\")(noise)\n",
    "    x = layers.BatchNormalization()(x)\n",
    "    x = layers.Dense(512, activation=\"relu\")(x)\n",
    "    x = layers.BatchNormalization()(x)\n",
    "    x = layers.Dense(1024, activation=\"relu\")(x)\n",
    "    x = layers.BatchNormalization()(x)\n",
    "    x = layers.Dense(np.prod(X_train.shape[1:]), activation=None)(x)\n",
    "    samp = layers.Reshape(X_train.shape[1:])(x)\n",
    "    return Model(noise, samp)\n",
    "\n",
    "# Định nghĩa mô hình Discriminator\n",
    "def build_discriminator():\n",
    "    samp = layers.Input(shape=X_train.shape[1:])\n",
    "    x = layers.Flatten()(samp)\n",
    "    x = layers.Dense(512, activation=\"relu\")(x)\n",
    "    x = layers.Dense(256, activation=\"relu\")(x)\n",
    "    x = layers.Dense(1)(x)\n",
    "    return Model(samp, x)\n",
    "\n",
    "\n",
    "# Hàm để sinh dữ liệu\n",
    "def generate_data_for_class(label):\n",
    "    global X_train_balanced, y_train_balanced, X_train, y_train\n",
    "    current_data = X_train[y_train == label]\n",
    "    current_samples = current_data.shape[0]\n",
    "    samples_needed = SAMPLES_TO_GENERATE - current_samples\n",
    "\n",
    "    X_train_balanced = np.concatenate([X_train_balanced, current_data], axis=0)\n",
    "    y_train_balanced = np.concatenate([y_train_balanced, np.full(current_samples, label)], axis=0)\n",
    "\n",
    "    if samples_needed > 0:\n",
    "        noise = np.random.normal(0, 1, (samples_needed, LATENT_DIM))\n",
    "        generated_samples = generator.predict(noise)\n",
    "\n",
    "        # Gộp dữ liệu sinh ra vào X_train và y_train\n",
    "        X_train_balanced = np.concatenate([X_train_balanced, generated_samples], axis=0)\n",
    "        y_train_balanced = np.concatenate([y_train_balanced, np.full(samples_needed, label)], axis=0)\n",
    "\n",
    "# Huấn luyện WGAN cho mỗi class thiểu số\n",
    "for label in Smin:\n",
    "\n",
    "    # Tối ưu hoá và loss function\n",
    "    optimizer = legacy.RMSprop(lr=0.00005)\n",
    "\n",
    "    generator = build_generator()\n",
    "    discriminator = build_discriminator()\n",
    "\n",
    "    discriminator.compile(loss='binary_crossentropy', optimizer=optimizer, metrics=['accuracy'])\n",
    "    discriminator.trainable = False\n",
    "\n",
    "    noise = layers.Input(shape=(LATENT_DIM,))\n",
    "    samp = generator(noise)\n",
    "    validity = discriminator(samp)\n",
    "    combined = Model(noise, validity)\n",
    "    combined.compile(loss='binary_crossentropy', optimizer=optimizer)\n",
    "\n",
    "    data = X_train[y_train == label]\n",
    "    valid = np.ones((BATCH_SIZE, 1))\n",
    "    fake = -np.ones((BATCH_SIZE, 1))\n",
    "    \n",
    "    for epoch in range(NUM_EPOCHS):\n",
    "        idx = np.random.randint(0, data.shape[0], BATCH_SIZE)\n",
    "        real_samp = data.iloc[idx]\n",
    "\n",
    "        noise = np.random.normal(0, 1, (BATCH_SIZE, LATENT_DIM))\n",
    "        gen_samp = generator.predict(noise)\n",
    "\n",
    "        d_loss_real = discriminator.train_on_batch(real_samp, valid)\n",
    "        d_loss_fake = discriminator.train_on_batch(gen_samp, fake)\n",
    "        d_loss = 0.5 * np.add(d_loss_real, d_loss_fake)\n",
    "\n",
    "        g_loss = combined.train_on_batch(noise, valid)\n",
    "\n",
    "    generate_data_for_class(label)  # Sinh dữ liệu cho class hiện tại\n",
    "\n"
   ]
  },
  {
   "cell_type": "code",
   "execution_count": 14,
   "metadata": {},
   "outputs": [
    {
     "name": "stdout",
     "output_type": "stream",
     "text": [
      "Brute Force -Web: 280\n",
      "Brute Force -XSS: 280\n",
      "DDOS attack-LOIC-UDP: 280\n",
      "SQL Injection: 280\n"
     ]
    }
   ],
   "source": [
    "unique_values, counts = np.unique(y_train_balanced, return_counts=True)\n",
    "\n",
    "# Hiển thị các giá trị và tần suất xuất hiện tương ứng\n",
    "for value, count in zip(unique_values, counts):\n",
    "    print(f'{value}: {count}')"
   ]
  },
  {
   "cell_type": "code",
   "execution_count": 15,
   "metadata": {},
   "outputs": [],
   "source": [
    "# Giam du lieu X_test, y_test bang cach chon ngau nhien\n",
    "\n",
    "def reduce_data(X_test, y_test, n):\n",
    "    unique_classes = np.unique(y_test)\n",
    "    X_test_reduced = np.empty((0, X_test.shape[1]))\n",
    "    y_test_reduced = np.array([])\n",
    "\n",
    "    for label in unique_classes:\n",
    "        indices = np.where(y_test == label)[0]\n",
    "        if len(indices) > n:\n",
    "            indices = np.random.choice(indices, n, replace=False)\n",
    "        X_subset = X_test.iloc[indices]\n",
    "        y_subset = y_test.iloc[indices]\n",
    "\n",
    "        X_test_reduced = np.vstack((X_test_reduced, X_subset))\n",
    "        y_test_reduced = np.concatenate((y_test_reduced, y_subset))\n",
    "\n",
    "    return X_test_reduced, y_test_reduced\n",
    "\n",
    "X_test_reduced, y_test_reduced = reduce_data(X_test, y_test, int(t * 0.3))\n"
   ]
  },
  {
   "cell_type": "code",
   "execution_count": 16,
   "metadata": {},
   "outputs": [
    {
     "name": "stdout",
     "output_type": "stream",
     "text": [
      "Brute Force -Web: 120\n",
      "Brute Force -XSS: 69\n",
      "DDOS attack-LOIC-UDP: 120\n",
      "SQL Injection: 26\n"
     ]
    }
   ],
   "source": [
    "unique_values, counts = np.unique(y_test_reduced, return_counts=True)\n",
    "\n",
    "# Hiển thị các giá trị và tần suất xuất hiện tương ứng\n",
    "for value, count in zip(unique_values, counts):\n",
    "    print(f'{value}: {count}')"
   ]
  },
  {
   "cell_type": "code",
   "execution_count": 17,
   "metadata": {},
   "outputs": [],
   "source": [
    "# Lưu dữ liệu vào file\n",
    "data = {\n",
    "    'X_train': X_train_balanced,\n",
    "    'X_test': X_test_reduced,\n",
    "    'y_train': y_train_balanced,\n",
    "    'y_test': y_test_reduced\n",
    "}\n",
    "\n",
    "with open('data.pkl', 'wb') as file:\n",
    "    pickle.dump(data, file)\n"
   ]
  }
 ],
 "metadata": {
  "kernelspec": {
   "display_name": "tf",
   "language": "python",
   "name": "python3"
  },
  "language_info": {
   "codemirror_mode": {
    "name": "ipython",
    "version": 3
   },
   "file_extension": ".py",
   "mimetype": "text/x-python",
   "name": "python",
   "nbconvert_exporter": "python",
   "pygments_lexer": "ipython3",
   "version": "3.9.16"
  }
 },
 "nbformat": 4,
 "nbformat_minor": 2
}
