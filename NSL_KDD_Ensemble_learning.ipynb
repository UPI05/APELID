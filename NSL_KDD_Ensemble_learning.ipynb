{
  "cells": [
    {
      "cell_type": "code",
      "execution_count": 2,
      "metadata": {
        "colab": {
          "base_uri": "https://localhost:8080/"
        },
        "id": "YAy1ENtdCIQQ",
        "outputId": "f9775012-8a25-45a1-9a87-d5e0cb06a188"
      },
      "outputs": [
        {
          "name": "stdout",
          "output_type": "stream",
          "text": [
            "Collecting catboost\n",
            "  Downloading catboost-1.2.5-cp310-cp310-manylinux2014_x86_64.whl (98.2 MB)\n",
            "\u001b[2K     \u001b[90m━━━━━━━━━━━━━━━━━━━━━━━━━━━━━━━━━━━━━━━━\u001b[0m \u001b[32m98.2/98.2 MB\u001b[0m \u001b[31m8.5 MB/s\u001b[0m eta \u001b[36m0:00:00\u001b[0m\n",
            "\u001b[?25hRequirement already satisfied: graphviz in /usr/local/lib/python3.10/dist-packages (from catboost) (0.20.3)\n",
            "Requirement already satisfied: matplotlib in /usr/local/lib/python3.10/dist-packages (from catboost) (3.7.1)\n",
            "Requirement already satisfied: numpy>=1.16.0 in /usr/local/lib/python3.10/dist-packages (from catboost) (1.25.2)\n",
            "Requirement already satisfied: pandas>=0.24 in /usr/local/lib/python3.10/dist-packages (from catboost) (2.0.3)\n",
            "Requirement already satisfied: scipy in /usr/local/lib/python3.10/dist-packages (from catboost) (1.11.4)\n",
            "Requirement already satisfied: plotly in /usr/local/lib/python3.10/dist-packages (from catboost) (5.15.0)\n",
            "Requirement already satisfied: six in /usr/local/lib/python3.10/dist-packages (from catboost) (1.16.0)\n",
            "Requirement already satisfied: python-dateutil>=2.8.2 in /usr/local/lib/python3.10/dist-packages (from pandas>=0.24->catboost) (2.8.2)\n",
            "Requirement already satisfied: pytz>=2020.1 in /usr/local/lib/python3.10/dist-packages (from pandas>=0.24->catboost) (2023.4)\n",
            "Requirement already satisfied: tzdata>=2022.1 in /usr/local/lib/python3.10/dist-packages (from pandas>=0.24->catboost) (2024.1)\n",
            "Requirement already satisfied: contourpy>=1.0.1 in /usr/local/lib/python3.10/dist-packages (from matplotlib->catboost) (1.2.1)\n",
            "Requirement already satisfied: cycler>=0.10 in /usr/local/lib/python3.10/dist-packages (from matplotlib->catboost) (0.12.1)\n",
            "Requirement already satisfied: fonttools>=4.22.0 in /usr/local/lib/python3.10/dist-packages (from matplotlib->catboost) (4.51.0)\n",
            "Requirement already satisfied: kiwisolver>=1.0.1 in /usr/local/lib/python3.10/dist-packages (from matplotlib->catboost) (1.4.5)\n",
            "Requirement already satisfied: packaging>=20.0 in /usr/local/lib/python3.10/dist-packages (from matplotlib->catboost) (24.0)\n",
            "Requirement already satisfied: pillow>=6.2.0 in /usr/local/lib/python3.10/dist-packages (from matplotlib->catboost) (9.4.0)\n",
            "Requirement already satisfied: pyparsing>=2.3.1 in /usr/local/lib/python3.10/dist-packages (from matplotlib->catboost) (3.1.2)\n",
            "Requirement already satisfied: tenacity>=6.2.0 in /usr/local/lib/python3.10/dist-packages (from plotly->catboost) (8.2.3)\n",
            "Installing collected packages: catboost\n",
            "Successfully installed catboost-1.2.5\n"
          ]
        }
      ],
      "source": [
        "!pip install catboost"
      ]
    },
    {
      "cell_type": "code",
      "execution_count": 3,
      "metadata": {
        "id": "_rcBHhoMluV0"
      },
      "outputs": [],
      "source": [
        "import pickle\n",
        "import numpy as np\n",
        "from sklearn.ensemble import RandomForestClassifier, GradientBoostingClassifier, BaggingClassifier\n",
        "from sklearn.metrics import accuracy_score, precision_recall_fscore_support\n",
        "from xgboost import XGBClassifier\n",
        "from catboost import CatBoostClassifier\n",
        "from tensorflow.keras.models import Sequential\n",
        "from tensorflow.keras.layers import Dense\n",
        "from tensorflow.keras.utils import to_categorical"
      ]
    },
    {
      "cell_type": "code",
      "execution_count": 4,
      "metadata": {
        "id": "g6H-cZoG1QZ_"
      },
      "outputs": [],
      "source": [
        "# Đọc dữ liệu từ file data.pkl.File nay chua du lieu da duoc can bang voi WGAN va ENN-Kmean\n",
        "with open('/content/drive/MyDrive/nsl-kdd-balanced.pkl', 'rb') as file:\n",
        "    data_loaded = pickle.load(file)\n",
        "\n",
        "X_train = data_loaded['X_train']\n",
        "X_test = data_loaded['X_test']\n",
        "y_train = data_loaded['y_train']\n",
        "y_test = data_loaded['y_test']"
      ]
    },
    {
      "cell_type": "code",
      "execution_count": 5,
      "metadata": {
        "colab": {
          "base_uri": "https://localhost:8080/"
        },
        "id": "W5V4JImn1T4p",
        "outputId": "063be90a-fac3-45ff-922b-5047e7f66ad8"
      },
      "outputs": [
        {
          "name": "stdout",
          "output_type": "stream",
          "text": [
            "0: 14000\n",
            "1: 14000\n",
            "2: 14000\n",
            "3: 14000\n",
            "4: 14000\n"
          ]
        }
      ],
      "source": [
        "unique_values, counts = np.unique(y_train, return_counts=True)\n",
        "\n",
        "# Hiển thị các giá trị và tần suất xuất hiện tương ứng\n",
        "for value, count in zip(unique_values, counts):\n",
        "    print(f'{value}: {count}')"
      ]
    },
    {
      "cell_type": "code",
      "execution_count": 6,
      "metadata": {
        "colab": {
          "base_uri": "https://localhost:8080/"
        },
        "id": "X223RmIuFrBo",
        "outputId": "e293c154-8511-4eca-ceac-cb68acc23ae7"
      },
      "outputs": [
        {
          "name": "stdout",
          "output_type": "stream",
          "text": [
            "0: 6000\n",
            "1: 6000\n",
            "2: 2421\n",
            "3: 67\n",
            "4: 2885\n"
          ]
        }
      ],
      "source": [
        "unique_values, counts = np.unique(y_test, return_counts=True)\n",
        "\n",
        "# Hiển thị các giá trị và tần suất xuất hiện tương ứng\n",
        "for value, count in zip(unique_values, counts):\n",
        "    print(f'{value}: {count}')"
      ]
    },
    {
      "cell_type": "code",
      "execution_count": 7,
      "metadata": {
        "colab": {
          "base_uri": "https://localhost:8080/"
        },
        "id": "gLVFUoLd2wQv",
        "outputId": "bf18ce7a-1516-4de0-dbc0-1392c43aefb4"
      },
      "outputs": [
        {
          "data": {
            "text/plain": [
              "array([[0.        , 0.5       , 0.34782609, 0.1       , 0.        ,\n",
              "        0.        , 0.        , 0.        , 0.        , 0.        ,\n",
              "        0.        , 0.        , 0.        , 0.        , 0.        ,\n",
              "        0.        , 0.        , 0.        , 0.        , 0.        ,\n",
              "        0.        , 0.        , 0.00195695, 0.00391389, 0.        ,\n",
              "        0.        , 1.        , 1.        , 1.        , 0.        ,\n",
              "        1.        , 0.39215686, 1.        , 1.        , 0.        ,\n",
              "        0.01      , 0.16      , 0.        , 0.        , 1.        ,\n",
              "        1.        ],\n",
              "       [0.        , 0.5       , 0.34782609, 0.1       , 0.        ,\n",
              "        0.        , 0.        , 0.        , 0.        , 0.        ,\n",
              "        0.        , 0.        , 0.        , 0.        , 0.        ,\n",
              "        0.        , 0.        , 0.        , 0.        , 0.        ,\n",
              "        0.        , 0.        , 0.00195695, 0.00391389, 0.        ,\n",
              "        0.        , 1.        , 1.        , 1.        , 0.        ,\n",
              "        1.        , 0.40392157, 1.        , 1.        , 0.        ,\n",
              "        0.01      , 0.13      , 0.        , 0.        , 1.        ,\n",
              "        1.        ],\n",
              "       [0.        , 0.5       , 0.34782609, 0.1       , 0.        ,\n",
              "        0.        , 0.        , 0.        , 0.        , 0.        ,\n",
              "        0.        , 0.        , 0.        , 0.        , 0.        ,\n",
              "        0.        , 0.        , 0.        , 0.        , 0.        ,\n",
              "        0.        , 0.        , 0.00195695, 0.00195695, 0.        ,\n",
              "        0.        , 1.        , 1.        , 1.        , 0.        ,\n",
              "        0.        , 0.08627451, 1.        , 1.        , 0.        ,\n",
              "        0.05      , 0.05      , 0.        , 0.        , 0.95      ,\n",
              "        1.        ],\n",
              "       [0.        , 0.5       , 0.34782609, 0.1       , 0.        ,\n",
              "        0.        , 0.        , 0.        , 0.        , 0.        ,\n",
              "        0.        , 0.        , 0.        , 0.        , 0.        ,\n",
              "        0.        , 0.        , 0.        , 0.        , 0.        ,\n",
              "        0.        , 0.        , 0.00195695, 0.00391389, 0.        ,\n",
              "        0.        , 1.        , 1.        , 1.        , 0.        ,\n",
              "        1.        , 0.04313725, 0.16862745, 1.        , 0.        ,\n",
              "        0.09      , 0.37      , 0.        , 0.        , 1.        ,\n",
              "        1.        ],\n",
              "       [0.        , 0.5       , 0.34782609, 0.1       , 0.        ,\n",
              "        0.        , 0.        , 0.        , 0.        , 0.        ,\n",
              "        0.        , 0.        , 0.        , 0.        , 0.        ,\n",
              "        0.        , 0.        , 0.        , 0.        , 0.        ,\n",
              "        0.        , 0.        , 0.02544031, 0.02544031, 0.        ,\n",
              "        0.        , 0.69      , 0.69      , 1.        , 0.        ,\n",
              "        0.        , 0.1372549 , 0.71372549, 1.        , 0.        ,\n",
              "        0.03      , 0.18      , 0.        , 0.        , 0.86      ,\n",
              "        0.97      ],\n",
              "       [0.        , 0.5       , 0.34782609, 0.1       , 0.        ,\n",
              "        0.        , 0.        , 0.        , 0.        , 0.        ,\n",
              "        0.        , 0.        , 0.        , 0.        , 0.        ,\n",
              "        0.        , 0.        , 0.        , 0.        , 0.        ,\n",
              "        0.        , 0.        , 0.00195695, 0.00195695, 0.        ,\n",
              "        0.        , 1.        , 1.        , 1.        , 0.        ,\n",
              "        0.        , 0.11372549, 1.        , 1.        , 0.        ,\n",
              "        0.03      , 0.23      , 0.        , 0.        , 1.        ,\n",
              "        1.        ],\n",
              "       [0.        , 0.5       , 0.34782609, 0.1       , 0.        ,\n",
              "        0.        , 0.        , 0.        , 0.        , 0.        ,\n",
              "        0.        , 0.        , 0.        , 0.        , 0.        ,\n",
              "        0.        , 0.        , 0.        , 0.        , 0.        ,\n",
              "        0.        , 0.        , 0.00195695, 0.00391389, 0.        ,\n",
              "        0.        , 1.        , 1.        , 1.        , 0.        ,\n",
              "        1.        , 0.06666667, 0.87058824, 1.        , 0.        ,\n",
              "        0.06      , 0.18      , 0.        , 0.        , 1.        ,\n",
              "        1.        ],\n",
              "       [0.        , 0.5       , 0.34782609, 0.1       , 0.        ,\n",
              "        0.        , 0.        , 0.        , 0.        , 0.        ,\n",
              "        0.        , 0.        , 0.        , 0.        , 0.        ,\n",
              "        0.        , 0.        , 0.        , 0.        , 0.        ,\n",
              "        0.        , 0.        , 0.03913894, 0.03913894, 0.        ,\n",
              "        0.        , 0.8       , 0.8       , 1.        , 0.        ,\n",
              "        0.        , 0.09019608, 0.69019608, 1.        , 0.        ,\n",
              "        0.04      , 0.22      , 0.        , 0.        , 0.83      ,\n",
              "        0.98      ],\n",
              "       [0.        , 0.5       , 0.34782609, 0.1       , 0.        ,\n",
              "        0.        , 0.        , 0.        , 0.        , 0.        ,\n",
              "        0.        , 0.        , 0.        , 0.        , 0.        ,\n",
              "        0.        , 0.        , 0.        , 0.        , 0.        ,\n",
              "        0.        , 0.        , 0.00195695, 0.00391389, 0.        ,\n",
              "        0.        , 1.        , 1.        , 1.        , 0.        ,\n",
              "        1.        , 0.03529412, 1.        , 1.        , 0.        ,\n",
              "        0.11      , 0.14      , 0.        , 0.        , 1.        ,\n",
              "        0.74      ],\n",
              "       [0.        , 0.5       , 0.34782609, 0.1       , 0.        ,\n",
              "        0.        , 0.        , 0.        , 0.        , 0.        ,\n",
              "        0.        , 0.        , 0.        , 0.        , 0.        ,\n",
              "        0.        , 0.        , 0.        , 0.        , 0.        ,\n",
              "        0.        , 0.        , 0.00195695, 0.00195695, 0.        ,\n",
              "        0.        , 1.        , 1.        , 1.        , 0.        ,\n",
              "        0.        , 0.01176471, 1.        , 1.        , 0.        ,\n",
              "        0.33      , 0.22      , 0.        , 0.        , 1.        ,\n",
              "        0.96      ]])"
            ]
          },
          "execution_count": 7,
          "metadata": {},
          "output_type": "execute_result"
        }
      ],
      "source": [
        "X_train[:10]"
      ]
    },
    {
      "cell_type": "code",
      "execution_count": 8,
      "metadata": {
        "colab": {
          "base_uri": "https://localhost:8080/"
        },
        "id": "7fksJj4u2zsP",
        "outputId": "a95375f9-208e-4b92-e9e5-4ba55af67e86"
      },
      "outputs": [
        {
          "data": {
            "text/plain": [
              "array([0, 0, 0, 0, 0])"
            ]
          },
          "execution_count": 8,
          "metadata": {},
          "output_type": "execute_result"
        }
      ],
      "source": [
        "y_train[:5]"
      ]
    },
    {
      "cell_type": "code",
      "execution_count": 9,
      "metadata": {
        "colab": {
          "base_uri": "https://localhost:8080/"
        },
        "id": "92fd-lm4A2jQ",
        "outputId": "f6812cbb-f9c3-420b-fe52-0d7aab819f4f"
      },
      "outputs": [
        {
          "name": "stderr",
          "output_type": "stream",
          "text": [
            "/usr/local/lib/python3.10/dist-packages/sklearn/ensemble/_base.py:166: FutureWarning: `base_estimator` was renamed to `estimator` in version 1.2 and will be removed in 1.4.\n",
            "  warnings.warn(\n"
          ]
        },
        {
          "name": "stdout",
          "output_type": "stream",
          "text": [
            "543/543 [==============================] - 1s 1ms/step\n"
          ]
        }
      ],
      "source": [
        "# Assuming X_train, X_test, y_train, y_test are already defined and preprocessed.\n",
        "num_classes = len(np.unique(np.concatenate([y_train, y_test])))\n",
        "\n",
        "# Define and train models\n",
        "xgb = XGBClassifier(use_label_encoder=False, eval_metric='mlogloss')\n",
        "xgb.fit(X_train, y_train)\n",
        "\n",
        "cbt = CatBoostClassifier(verbose=0)\n",
        "cbt.fit(X_train, y_train)\n",
        "\n",
        "gbm = GradientBoostingClassifier()\n",
        "gbm.fit(X_train, y_train)\n",
        "\n",
        "bme = BaggingClassifier(base_estimator=RandomForestClassifier(), n_estimators=10)\n",
        "bme.fit(X_train, y_train)\n",
        "\n",
        "# Deep Neural Network\n",
        "dnn = Sequential([\n",
        "    Dense(128, activation='relu', input_dim=X_train.shape[1]),\n",
        "    Dense(64, activation='relu'),\n",
        "    Dense(num_classes, activation='softmax')\n",
        "])\n",
        "dnn.compile(optimizer='adam', loss='categorical_crossentropy', metrics=['accuracy'])\n",
        "dnn.fit(X_train, to_categorical(y_train, num_classes=num_classes), epochs=10, batch_size=32, verbose=0)\n",
        "\n",
        "# Predict probabilities\n",
        "prob_xgb = xgb.predict_proba(X_test)\n",
        "prob_cbt = cbt.predict_proba(X_test)\n",
        "prob_gbm = gbm.predict_proba(X_test)\n",
        "prob_bme = bme.predict_proba(X_test)\n",
        "prob_dnn = dnn.predict(X_test)  # This already gives probabilities due to softmax\n",
        "\n"
      ]
    },
    {
      "cell_type": "code",
      "execution_count": 10,
      "metadata": {
        "id": "4AXLc6MjYD2-"
      },
      "outputs": [],
      "source": [
        "def evaluate_model(y_true, predictions):\n",
        "    acc = accuracy_score(y_true, predictions)\n",
        "    precision, recall, f1, _ = precision_recall_fscore_support(y_true, predictions, average='weighted')\n",
        "    return acc, precision, recall, f1"
      ]
    },
    {
      "cell_type": "code",
      "execution_count": 11,
      "metadata": {
        "colab": {
          "base_uri": "https://localhost:8080/"
        },
        "id": "aEYUlkLUYVmY",
        "outputId": "89218817-0cc4-48c2-e2bd-b84d45c1f1f9"
      },
      "outputs": [
        {
          "name": "stdout",
          "output_type": "stream",
          "text": [
            "XGB - Accuracy: 0.7327, Precision: 0.8137, Recall: 0.7327, F1-Score: 0.6887\n",
            "CBT - Accuracy: 0.7303, Precision: 0.8070, Recall: 0.7303, F1-Score: 0.6773\n",
            "GBM - Accuracy: 0.7334, Precision: 0.8070, Recall: 0.7334, F1-Score: 0.6926\n",
            "BME - Accuracy: 0.7130, Precision: 0.8098, Recall: 0.7130, F1-Score: 0.6679\n",
            "DNN - Accuracy: 0.7219, Precision: 0.7504, Recall: 0.7219, F1-Score: 0.6653\n"
          ]
        }
      ],
      "source": [
        "# Convert predicted probabilities to class labels for evaluation\n",
        "predictions_xgb = np.argmax(prob_xgb, axis=1)\n",
        "predictions_cbt = np.argmax(prob_cbt, axis=1)\n",
        "predictions_gbm = np.argmax(prob_gbm, axis=1)\n",
        "predictions_bme = np.argmax(prob_bme, axis=1)\n",
        "predictions_dnn = np.argmax(prob_dnn, axis=1)\n",
        "\n",
        "# Evaluate each model\n",
        "results_xgb = evaluate_model(y_test, predictions_xgb)\n",
        "results_cbt = evaluate_model(y_test, predictions_cbt)\n",
        "results_gbm = evaluate_model(y_test, predictions_gbm)\n",
        "results_bme = evaluate_model(y_test, predictions_bme)\n",
        "results_dnn = evaluate_model(y_test, predictions_dnn)\n",
        "\n",
        "# Print results for each model\n",
        "print(\"XGB - Accuracy: {:.4f}, Precision: {:.4f}, Recall: {:.4f}, F1-Score: {:.4f}\".format(*results_xgb))\n",
        "print(\"CBT - Accuracy: {:.4f}, Precision: {:.4f}, Recall: {:.4f}, F1-Score: {:.4f}\".format(*results_cbt))\n",
        "print(\"GBM - Accuracy: {:.4f}, Precision: {:.4f}, Recall: {:.4f}, F1-Score: {:.4f}\".format(*results_gbm))\n",
        "print(\"BME - Accuracy: {:.4f}, Precision: {:.4f}, Recall: {:.4f}, F1-Score: {:.4f}\".format(*results_bme))\n",
        "print(\"DNN - Accuracy: {:.4f}, Precision: {:.4f}, Recall: {:.4f}, F1-Score: {:.4f}\".format(*results_dnn))\n"
      ]
    },
    {
      "cell_type": "code",
      "execution_count": 12,
      "metadata": {
        "colab": {
          "base_uri": "https://localhost:8080/"
        },
        "id": "xFDI7K0UXy23",
        "outputId": "c413d59d-f05a-4927-c9b3-71666c99967e"
      },
      "outputs": [
        {
          "name": "stdout",
          "output_type": "stream",
          "text": [
            "Ensemble Accuracy: 0.7307315950037414\n",
            "Ensemble Precision: 0.8158890203917817\n",
            "Ensemble Recall: 0.7307315950037414\n",
            "Ensemble F1-Score: 0.6857472428199289\n"
          ]
        }
      ],
      "source": [
        "# Ensemble learning\n",
        "\n",
        "# Weighted average of probabilities\n",
        "ensemble_probabilities = np.average(\n",
        "    [prob_xgb, prob_cbt, prob_gbm, prob_bme, prob_dnn],\n",
        "    axis=0,\n",
        "    weights=[0.3, 0.2, 0.2, 0.2, 0.1]\n",
        ")\n",
        "\n",
        "# Final prediction is the class with the highest average probability\n",
        "ensemble_predictions = np.argmax(ensemble_probabilities, axis=1)\n",
        "\n",
        "# Evaluate ensemble\n",
        "ensemble_results = evaluate_model(y_test, ensemble_predictions)\n",
        "\n",
        "print(\"Ensemble Accuracy:\", ensemble_results[0])\n",
        "print(\"Ensemble Precision:\", ensemble_results[1])\n",
        "print(\"Ensemble Recall:\", ensemble_results[2])\n",
        "print(\"Ensemble F1-Score:\", ensemble_results[3])"
      ]
    }
  ],
  "metadata": {
    "colab": {
      "provenance": []
    },
    "kernelspec": {
      "display_name": "Python 3",
      "name": "python3"
    },
    "language_info": {
      "name": "python"
    }
  },
  "nbformat": 4,
  "nbformat_minor": 0
}
