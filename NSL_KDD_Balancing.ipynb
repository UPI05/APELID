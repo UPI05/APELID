{
  "cells": [
    {
      "cell_type": "code",
      "execution_count": 1,
      "metadata": {
        "id": "iD5e32NiAMKq"
      },
      "outputs": [],
      "source": [
        "import pandas as pd\n",
        "from sklearn.model_selection import train_test_split\n",
        "import numpy as np\n",
        "from sklearn.cluster import KMeans\n",
        "from imblearn.under_sampling import EditedNearestNeighbours\n",
        "import tensorflow as tf\n",
        "from tensorflow.keras.optimizers import legacy\n",
        "from tensorflow.keras import layers, Model\n",
        "import pickle"
      ]
    },
    {
      "cell_type": "code",
      "execution_count": 2,
      "metadata": {
        "id": "6YQy0NdEAPIo"
      },
      "outputs": [],
      "source": [
        "with open('/content/drive/MyDrive/nsl_kdd_preprocessed.pkl', 'rb') as file:\n",
        "    X_train, X_test, y_train, y_test = pickle.load(file)"
      ]
    },
    {
      "cell_type": "code",
      "execution_count": 3,
      "metadata": {
        "colab": {
          "base_uri": "https://localhost:8080/"
        },
        "id": "Kl6Ub3GqgglS",
        "outputId": "d037403a-5e86-47a0-ab5f-13b87eafddbf"
      },
      "outputs": [
        {
          "name": "stdout",
          "output_type": "stream",
          "text": [
            "Kích thước của tập huấn luyện (X_train): (125972, 41)\n",
            "Kích thước của tập kiểm tra (X_test): (22543, 41)\n",
            "Kích thước của tập huấn luyện (y_train): (125972,)\n",
            "Kích thước của tập kiểm tra (y_test): (22543,)\n"
          ]
        }
      ],
      "source": [
        "print(\"Kích thước của tập huấn luyện (X_train):\", X_train.shape)\n",
        "print(\"Kích thước của tập kiểm tra (X_test):\", X_test.shape)\n",
        "print(\"Kích thước của tập huấn luyện (y_train):\", y_train.shape)\n",
        "print(\"Kích thước của tập kiểm tra (y_test):\", y_test.shape)"
      ]
    },
    {
      "cell_type": "code",
      "execution_count": 4,
      "metadata": {
        "colab": {
          "base_uri": "https://localhost:8080/"
        },
        "id": "M9BExe9nBCHa",
        "outputId": "96f410e9-d5d2-4129-ea83-6b1e192f5f37"
      },
      "outputs": [
        {
          "data": {
            "text/plain": [
              "attack\n",
              "normal             67342\n",
              "neptune            41214\n",
              "satan               3633\n",
              "ipsweep             3599\n",
              "portsweep           2931\n",
              "smurf               2646\n",
              "nmap                1493\n",
              "back                 956\n",
              "teardrop             892\n",
              "warezclient          890\n",
              "pod                  201\n",
              "guess_passwd          53\n",
              "buffer_overflow       30\n",
              "warezmaster           20\n",
              "land                  18\n",
              "imap                  11\n",
              "rootkit               10\n",
              "loadmodule             9\n",
              "ftp_write              8\n",
              "multihop               7\n",
              "phf                    4\n",
              "perl                   3\n",
              "spy                    2\n",
              "Name: count, dtype: int64"
            ]
          },
          "execution_count": 4,
          "metadata": {},
          "output_type": "execute_result"
        }
      ],
      "source": [
        "# Thống kê số mẫu mỗi lớp\n",
        "y_train.value_counts()"
      ]
    },
    {
      "cell_type": "code",
      "execution_count": 5,
      "metadata": {
        "colab": {
          "base_uri": "https://localhost:8080/"
        },
        "id": "HqzFj7-gg1Oy",
        "outputId": "1fcf037c-fb9e-410f-e56e-eb53e8807238"
      },
      "outputs": [
        {
          "data": {
            "text/plain": [
              "attack\n",
              "normal             9711\n",
              "neptune            4656\n",
              "guess_passwd       1231\n",
              "mscan               996\n",
              "warezmaster         944\n",
              "apache2             737\n",
              "satan               735\n",
              "processtable        685\n",
              "smurf               665\n",
              "back                359\n",
              "snmpguess           331\n",
              "saint               319\n",
              "mailbomb            293\n",
              "snmpgetattack       178\n",
              "portsweep           157\n",
              "ipsweep             141\n",
              "httptunnel          133\n",
              "nmap                 73\n",
              "pod                  41\n",
              "buffer_overflow      20\n",
              "multihop             18\n",
              "named                17\n",
              "ps                   15\n",
              "sendmail             14\n",
              "rootkit              13\n",
              "xterm                13\n",
              "teardrop             12\n",
              "xlock                 9\n",
              "land                  7\n",
              "xsnoop                4\n",
              "ftp_write             3\n",
              "worm                  2\n",
              "loadmodule            2\n",
              "perl                  2\n",
              "sqlattack             2\n",
              "udpstorm              2\n",
              "phf                   2\n",
              "imap                  1\n",
              "Name: count, dtype: int64"
            ]
          },
          "execution_count": 5,
          "metadata": {},
          "output_type": "execute_result"
        }
      ],
      "source": [
        "y_test.value_counts()"
      ]
    },
    {
      "cell_type": "code",
      "execution_count": 6,
      "metadata": {
        "colab": {
          "base_uri": "https://localhost:8080/"
        },
        "id": "QTEgjNYzg85o",
        "outputId": "e06006f0-e278-4366-f81d-26a8a4978833"
      },
      "outputs": [
        {
          "name": "stdout",
          "output_type": "stream",
          "text": [
            "['satan', 'ipsweep', 'portsweep', 'smurf', 'nmap', 'back', 'teardrop', 'warezclient', 'pod', 'guess_passwd', 'buffer_overflow', 'warezmaster', 'land', 'imap', 'rootkit', 'loadmodule', 'ftp_write', 'multihop', 'phf', 'perl', 'spy']\n",
            "['normal', 'neptune']\n"
          ]
        }
      ],
      "source": [
        "t = 20000 # Maximum number in a label\n",
        "# Lay danh sach cac class thuoc minority va majority\n",
        "Smin = []\n",
        "Smaj = []\n",
        "\n",
        "for label, cnt in y_train.value_counts().items():\n",
        "  if cnt >= (t * 0.7): # trainset:testset = 7:3\n",
        "    Smaj.append(label)\n",
        "  else:\n",
        "    Smin.append(label)\n",
        "\n",
        "print(Smin)\n",
        "print(Smaj)"
      ]
    },
    {
      "cell_type": "code",
      "execution_count": 7,
      "metadata": {
        "colab": {
          "base_uri": "https://localhost:8080/"
        },
        "id": "STm8qDhIhR1D",
        "outputId": "afbb93eb-7f8f-42eb-dd19-6338bfce9c8b"
      },
      "outputs": [
        {
          "name": "stdout",
          "output_type": "stream",
          "text": [
            "ENN\n",
            "Label:  normal\n",
            "Clustering\n"
          ]
        },
        {
          "name": "stderr",
          "output_type": "stream",
          "text": [
            "/usr/local/lib/python3.10/dist-packages/sklearn/cluster/_kmeans.py:870: FutureWarning: The default value of `n_init` will change from 10 to 'auto' in 1.4. Set the value of `n_init` explicitly to suppress the warning\n",
            "  warnings.warn(\n"
          ]
        },
        {
          "name": "stdout",
          "output_type": "stream",
          "text": [
            "not enough\n",
            "not enough\n",
            "not enough\n",
            "not enough\n",
            "not enough\n",
            "not enough\n",
            "not enough\n",
            "not enough\n",
            "not enough\n",
            "not enough\n",
            "Compressing\n",
            "Cluster  0\n",
            "Cluster  1\n",
            "Cluster  2\n",
            "Cluster  3\n",
            "Cluster  4\n",
            "Cluster  5\n",
            "Cluster  6\n",
            "Cluster  7\n",
            "Cluster  8\n",
            "Cluster  9\n",
            "Cluster  10\n",
            "Cluster  11\n",
            "Cluster  12\n",
            "Cluster  13\n",
            "Cluster  14\n",
            "Cluster  15\n",
            "Cluster  16\n",
            "Cluster  17\n",
            "Cluster  18\n",
            "Cluster  19\n",
            "Cluster  20\n",
            "Cluster  21\n",
            "Cluster  22\n",
            "Label:  neptune\n",
            "Clustering\n"
          ]
        },
        {
          "name": "stderr",
          "output_type": "stream",
          "text": [
            "/usr/local/lib/python3.10/dist-packages/sklearn/cluster/_kmeans.py:870: FutureWarning: The default value of `n_init` will change from 10 to 'auto' in 1.4. Set the value of `n_init` explicitly to suppress the warning\n",
            "  warnings.warn(\n"
          ]
        },
        {
          "name": "stdout",
          "output_type": "stream",
          "text": [
            "not enough\n",
            "not enough\n",
            "not enough\n",
            "not enough\n",
            "not enough\n",
            "not enough\n",
            "not enough\n",
            "not enough\n",
            "not enough\n",
            "not enough\n",
            "not enough\n",
            "Compressing\n",
            "Cluster  0\n",
            "Cluster  1\n",
            "Cluster  2\n",
            "Cluster  3\n",
            "Cluster  4\n",
            "Cluster  5\n",
            "Cluster  6\n",
            "Cluster  7\n",
            "Cluster  8\n",
            "Cluster  9\n",
            "Cluster  10\n",
            "Cluster  11\n",
            "Cluster  12\n",
            "Cluster  13\n",
            "Cluster  14\n",
            "Cluster  15\n",
            "Cluster  16\n",
            "Cluster  17\n",
            "Cluster  18\n",
            "Cluster  19\n",
            "Cluster  20\n",
            "Cluster  21\n",
            "Cluster  22\n",
            "Số lượng mẫu cuối cùng được chọn:  28000\n"
          ]
        }
      ],
      "source": [
        "# Số lượng cụm và tổng số mẫu cần lấy từ mỗi lớp\n",
        "n_clusters = 23 # Num of classes\n",
        "samples_needed_per_class = int(t * 0.7) # t * 0.7\n",
        "\n",
        "# Khởi tạo một list để lưu các cụm và nhãn sau khi xử lý\n",
        "selected_samples_X = []\n",
        "selected_samples_y = []\n",
        "\n",
        "# Lọc ra các mẫu dữ liệu chỉ thuộc các nhãn trong Smaj\n",
        "majority_mask = np.isin(y_train, Smaj)\n",
        "X_majority = X_train[majority_mask]\n",
        "y_majority = y_train[majority_mask]\n",
        "\n",
        "print('ENN')\n",
        "# Áp dụng ENN để loại bỏ nhiễu\n",
        "enn = EditedNearestNeighbours()\n",
        "X_enn, y_enn = enn.fit_resample(X_majority, y_majority)\n",
        "\n",
        "# Duyệt qua từng nhãn trong nhãn đã làm sạch\n",
        "for label in Smaj:\n",
        "    print('Label: ', label)\n",
        "    label_mask = y_enn == label\n",
        "    X_label = X_enn[label_mask]\n",
        "\n",
        "    # Áp dụng k-means trên dữ liệu đã làm sạch cho mỗi nhãn\n",
        "    if len(X_label) > 1:  # Kiểm tra có đủ dữ liệu để phân cụm không\n",
        "        print('Clustering')\n",
        "        kmeans = KMeans(n_clusters=n_clusters, random_state=0)\n",
        "        kmeans.fit(X_label)\n",
        "        labels = kmeans.labels_\n",
        "\n",
        "        # Tính số mẫu cần lấy từ mỗi cụm\n",
        "        cluster_counts = np.bincount(labels, minlength=n_clusters)\n",
        "        cluster_ratios = cluster_counts / cluster_counts.sum()\n",
        "        samples_per_cluster = np.floor(cluster_ratios * samples_needed_per_class).astype(int)\n",
        "\n",
        "        # Đảm bảo rằng tổng số mẫu đúng bằng 16000, điều chỉnh nếu cần\n",
        "        while samples_per_cluster.sum() < samples_needed_per_class:\n",
        "            print('not enough')\n",
        "            samples_per_cluster[np.argmax(cluster_counts - samples_per_cluster)] += 1\n",
        "\n",
        "        print('Compressing')\n",
        "        # Lấy mẫu từ mỗi cụm\n",
        "        for cluster in range(n_clusters):\n",
        "            print('Cluster ', cluster)\n",
        "\n",
        "            cluster_mask = labels == cluster\n",
        "            X_cluster = X_label[cluster_mask]\n",
        "\n",
        "            if len(X_cluster) > 0:\n",
        "\n",
        "                # Chọn ngẫu nhiên các mẫu từ cụm\n",
        "                if len(X_cluster) > samples_per_cluster[cluster]:\n",
        "                    indices = np.random.choice(len(X_cluster), samples_per_cluster[cluster], replace=False)\n",
        "                    selected_samples_X.append(X_cluster.iloc[indices])\n",
        "                    selected_samples_y.extend([label] * samples_per_cluster[cluster])\n",
        "                else:\n",
        "                    selected_samples_X.append(X_cluster)\n",
        "                    selected_samples_y.extend([label] * len(X_cluster))\n",
        "\n",
        "# Tạo tập dữ liệu cuối cùng từ các mẫu đã chọn\n",
        "X_train_balanced = np.vstack(selected_samples_X)\n",
        "y_train_balanced = np.array(selected_samples_y)\n",
        "\n",
        "print(\"Số lượng mẫu cuối cùng được chọn: \", X_train_balanced.shape[0])"
      ]
    },
    {
      "cell_type": "code",
      "execution_count": 8,
      "metadata": {
        "colab": {
          "base_uri": "https://localhost:8080/"
        },
        "id": "zGYZ39oejayZ",
        "outputId": "b8dd95b8-1244-4320-942d-bf67d17dad88"
      },
      "outputs": [
        {
          "name": "stdout",
          "output_type": "stream",
          "text": [
            "neptune: 14000\n",
            "normal: 14000\n"
          ]
        }
      ],
      "source": [
        "unique_values, counts = np.unique(y_train_balanced, return_counts=True)\n",
        "\n",
        "# Hiển thị các giá trị và tần suất xuất hiện tương ứng\n",
        "for value, count in zip(unique_values, counts):\n",
        "    print(f'{value}: {count}')"
      ]
    },
    {
      "cell_type": "code",
      "execution_count": 9,
      "metadata": {
        "colab": {
          "base_uri": "https://localhost:8080/"
        },
        "id": "8YkTLZBYjrzA",
        "outputId": "09412b10-07f9-4670-e83c-4e348f3ea42a"
      },
      "outputs": [
        {
          "name": "stderr",
          "output_type": "stream",
          "text": [
            "/usr/local/lib/python3.10/dist-packages/keras/src/optimizers/legacy/rmsprop.py:144: UserWarning: The `lr` argument is deprecated, use `learning_rate` instead.\n",
            "  super().__init__(name, **kwargs)\n"
          ]
        },
        {
          "name": "stdout",
          "output_type": "stream",
          "text": [
            "1/1 [==============================] - 0s 302ms/step\n",
            "1/1 [==============================] - 0s 21ms/step\n",
            "1/1 [==============================] - 0s 20ms/step\n",
            "1/1 [==============================] - 0s 20ms/step\n",
            "1/1 [==============================] - 0s 27ms/step\n",
            "1/1 [==============================] - 0s 30ms/step\n",
            "1/1 [==============================] - 0s 20ms/step\n",
            "1/1 [==============================] - 0s 21ms/step\n",
            "1/1 [==============================] - 0s 20ms/step\n",
            "1/1 [==============================] - 0s 22ms/step\n",
            "324/324 [==============================] - 1s 4ms/step\n"
          ]
        },
        {
          "name": "stderr",
          "output_type": "stream",
          "text": [
            "/usr/local/lib/python3.10/dist-packages/keras/src/optimizers/legacy/rmsprop.py:144: UserWarning: The `lr` argument is deprecated, use `learning_rate` instead.\n",
            "  super().__init__(name, **kwargs)\n"
          ]
        },
        {
          "name": "stdout",
          "output_type": "stream",
          "text": [
            "1/1 [==============================] - 0s 112ms/step\n",
            "1/1 [==============================] - 0s 20ms/step\n",
            "1/1 [==============================] - 0s 22ms/step\n",
            "1/1 [==============================] - 0s 20ms/step\n",
            "1/1 [==============================] - 0s 21ms/step\n",
            "1/1 [==============================] - 0s 30ms/step\n",
            "1/1 [==============================] - 0s 37ms/step\n",
            "1/1 [==============================] - 0s 35ms/step\n",
            "1/1 [==============================] - 0s 31ms/step\n",
            "1/1 [==============================] - 0s 29ms/step\n",
            "326/326 [==============================] - 2s 5ms/step\n"
          ]
        },
        {
          "name": "stderr",
          "output_type": "stream",
          "text": [
            "/usr/local/lib/python3.10/dist-packages/keras/src/optimizers/legacy/rmsprop.py:144: UserWarning: The `lr` argument is deprecated, use `learning_rate` instead.\n",
            "  super().__init__(name, **kwargs)\n"
          ]
        },
        {
          "name": "stdout",
          "output_type": "stream",
          "text": [
            "1/1 [==============================] - 0s 173ms/step\n",
            "1/1 [==============================] - 0s 21ms/step\n",
            "1/1 [==============================] - 0s 21ms/step\n",
            "1/1 [==============================] - 0s 19ms/step\n",
            "1/1 [==============================] - 0s 26ms/step\n",
            "1/1 [==============================] - 0s 19ms/step\n",
            "1/1 [==============================] - 0s 20ms/step\n",
            "1/1 [==============================] - 0s 20ms/step\n",
            "1/1 [==============================] - 0s 25ms/step\n",
            "1/1 [==============================] - 0s 22ms/step\n",
            "346/346 [==============================] - 1s 4ms/step\n"
          ]
        },
        {
          "name": "stderr",
          "output_type": "stream",
          "text": [
            "/usr/local/lib/python3.10/dist-packages/keras/src/optimizers/legacy/rmsprop.py:144: UserWarning: The `lr` argument is deprecated, use `learning_rate` instead.\n",
            "  super().__init__(name, **kwargs)\n"
          ]
        },
        {
          "name": "stdout",
          "output_type": "stream",
          "text": [
            "1/1 [==============================] - 0s 108ms/step\n",
            "1/1 [==============================] - 0s 21ms/step\n",
            "1/1 [==============================] - 0s 21ms/step\n",
            "1/1 [==============================] - 0s 20ms/step\n",
            "1/1 [==============================] - 0s 21ms/step\n",
            "1/1 [==============================] - 0s 21ms/step\n",
            "1/1 [==============================] - 0s 21ms/step\n",
            "1/1 [==============================] - 0s 22ms/step\n",
            "1/1 [==============================] - 0s 35ms/step\n",
            "1/1 [==============================] - 0s 32ms/step\n",
            "355/355 [==============================] - 2s 6ms/step\n"
          ]
        },
        {
          "name": "stderr",
          "output_type": "stream",
          "text": [
            "/usr/local/lib/python3.10/dist-packages/keras/src/optimizers/legacy/rmsprop.py:144: UserWarning: The `lr` argument is deprecated, use `learning_rate` instead.\n",
            "  super().__init__(name, **kwargs)\n"
          ]
        },
        {
          "name": "stdout",
          "output_type": "stream",
          "text": [
            "1/1 [==============================] - 0s 176ms/step\n",
            "1/1 [==============================] - 0s 21ms/step\n",
            "1/1 [==============================] - 0s 22ms/step\n",
            "1/1 [==============================] - 0s 35ms/step\n",
            "1/1 [==============================] - 0s 20ms/step\n",
            "1/1 [==============================] - 0s 21ms/step\n",
            "1/1 [==============================] - 0s 21ms/step\n",
            "1/1 [==============================] - 0s 21ms/step\n",
            "1/1 [==============================] - 0s 22ms/step\n",
            "1/1 [==============================] - 0s 22ms/step\n",
            "391/391 [==============================] - 2s 4ms/step\n"
          ]
        },
        {
          "name": "stderr",
          "output_type": "stream",
          "text": [
            "/usr/local/lib/python3.10/dist-packages/keras/src/optimizers/legacy/rmsprop.py:144: UserWarning: The `lr` argument is deprecated, use `learning_rate` instead.\n",
            "  super().__init__(name, **kwargs)\n"
          ]
        },
        {
          "name": "stdout",
          "output_type": "stream",
          "text": [
            "1/1 [==============================] - 0s 169ms/step\n",
            "1/1 [==============================] - 0s 34ms/step\n",
            "1/1 [==============================] - 0s 48ms/step\n",
            "1/1 [==============================] - 0s 36ms/step\n",
            "1/1 [==============================] - 0s 31ms/step\n",
            "1/1 [==============================] - 0s 29ms/step\n",
            "1/1 [==============================] - 0s 31ms/step\n",
            "1/1 [==============================] - 0s 28ms/step\n",
            "1/1 [==============================] - 0s 38ms/step\n",
            "1/1 [==============================] - 0s 31ms/step\n",
            "408/408 [==============================] - 2s 5ms/step\n"
          ]
        },
        {
          "name": "stderr",
          "output_type": "stream",
          "text": [
            "/usr/local/lib/python3.10/dist-packages/keras/src/optimizers/legacy/rmsprop.py:144: UserWarning: The `lr` argument is deprecated, use `learning_rate` instead.\n",
            "  super().__init__(name, **kwargs)\n"
          ]
        },
        {
          "name": "stdout",
          "output_type": "stream",
          "text": [
            "1/1 [==============================] - 0s 130ms/step\n",
            "1/1 [==============================] - 0s 27ms/step\n",
            "1/1 [==============================] - 0s 21ms/step\n",
            "1/1 [==============================] - 0s 21ms/step\n",
            "1/1 [==============================] - 0s 21ms/step\n",
            "1/1 [==============================] - 0s 22ms/step\n",
            "1/1 [==============================] - 0s 21ms/step\n",
            "1/1 [==============================] - 0s 21ms/step\n",
            "1/1 [==============================] - 0s 23ms/step\n",
            "1/1 [==============================] - 0s 22ms/step\n",
            "410/410 [==============================] - 2s 4ms/step\n"
          ]
        },
        {
          "name": "stderr",
          "output_type": "stream",
          "text": [
            "/usr/local/lib/python3.10/dist-packages/keras/src/optimizers/legacy/rmsprop.py:144: UserWarning: The `lr` argument is deprecated, use `learning_rate` instead.\n",
            "  super().__init__(name, **kwargs)\n"
          ]
        },
        {
          "name": "stdout",
          "output_type": "stream",
          "text": [
            "1/1 [==============================] - 0s 115ms/step\n",
            "1/1 [==============================] - 0s 20ms/step\n",
            "1/1 [==============================] - 0s 22ms/step\n",
            "1/1 [==============================] - 0s 19ms/step\n",
            "1/1 [==============================] - 0s 20ms/step\n",
            "1/1 [==============================] - 0s 20ms/step\n",
            "1/1 [==============================] - 0s 20ms/step\n",
            "1/1 [==============================] - 0s 20ms/step\n",
            "1/1 [==============================] - 0s 20ms/step\n",
            "1/1 [==============================] - 0s 20ms/step\n",
            "410/410 [==============================] - 2s 6ms/step\n"
          ]
        },
        {
          "name": "stderr",
          "output_type": "stream",
          "text": [
            "/usr/local/lib/python3.10/dist-packages/keras/src/optimizers/legacy/rmsprop.py:144: UserWarning: The `lr` argument is deprecated, use `learning_rate` instead.\n",
            "  super().__init__(name, **kwargs)\n"
          ]
        },
        {
          "name": "stdout",
          "output_type": "stream",
          "text": [
            "1/1 [==============================] - 0s 177ms/step\n",
            "1/1 [==============================] - 0s 20ms/step\n",
            "1/1 [==============================] - 0s 21ms/step\n",
            "1/1 [==============================] - 0s 22ms/step\n",
            "1/1 [==============================] - 0s 19ms/step\n",
            "1/1 [==============================] - 0s 20ms/step\n",
            "1/1 [==============================] - 0s 24ms/step\n",
            "1/1 [==============================] - 0s 20ms/step\n",
            "1/1 [==============================] - 0s 21ms/step\n",
            "1/1 [==============================] - 0s 21ms/step\n",
            "432/432 [==============================] - 2s 4ms/step\n"
          ]
        },
        {
          "name": "stderr",
          "output_type": "stream",
          "text": [
            "/usr/local/lib/python3.10/dist-packages/keras/src/optimizers/legacy/rmsprop.py:144: UserWarning: The `lr` argument is deprecated, use `learning_rate` instead.\n",
            "  super().__init__(name, **kwargs)\n"
          ]
        },
        {
          "name": "stdout",
          "output_type": "stream",
          "text": [
            "1/1 [==============================] - 0s 107ms/step\n",
            "1/1 [==============================] - 0s 20ms/step\n",
            "1/1 [==============================] - 0s 21ms/step\n",
            "1/1 [==============================] - 0s 20ms/step\n",
            "1/1 [==============================] - 0s 23ms/step\n",
            "1/1 [==============================] - 0s 22ms/step\n",
            "1/1 [==============================] - 0s 22ms/step\n",
            "1/1 [==============================] - 0s 22ms/step\n",
            "1/1 [==============================] - 0s 21ms/step\n",
            "1/1 [==============================] - 0s 32ms/step\n",
            "436/436 [==============================] - 3s 6ms/step\n"
          ]
        },
        {
          "name": "stderr",
          "output_type": "stream",
          "text": [
            "/usr/local/lib/python3.10/dist-packages/keras/src/optimizers/legacy/rmsprop.py:144: UserWarning: The `lr` argument is deprecated, use `learning_rate` instead.\n",
            "  super().__init__(name, **kwargs)\n"
          ]
        },
        {
          "name": "stdout",
          "output_type": "stream",
          "text": [
            "1/1 [==============================] - 0s 112ms/step\n",
            "1/1 [==============================] - 0s 21ms/step\n",
            "1/1 [==============================] - 0s 20ms/step\n",
            "1/1 [==============================] - 0s 20ms/step\n",
            "1/1 [==============================] - 0s 23ms/step\n",
            "1/1 [==============================] - 0s 21ms/step\n",
            "1/1 [==============================] - 0s 26ms/step\n",
            "1/1 [==============================] - 0s 20ms/step\n",
            "1/1 [==============================] - 0s 21ms/step\n",
            "1/1 [==============================] - 0s 27ms/step\n",
            "437/437 [==============================] - 2s 4ms/step\n"
          ]
        },
        {
          "name": "stderr",
          "output_type": "stream",
          "text": [
            "/usr/local/lib/python3.10/dist-packages/keras/src/optimizers/legacy/rmsprop.py:144: UserWarning: The `lr` argument is deprecated, use `learning_rate` instead.\n",
            "  super().__init__(name, **kwargs)\n"
          ]
        },
        {
          "name": "stdout",
          "output_type": "stream",
          "text": [
            "1/1 [==============================] - 0s 116ms/step\n",
            "1/1 [==============================] - 0s 32ms/step\n",
            "1/1 [==============================] - 0s 31ms/step\n",
            "1/1 [==============================] - 0s 29ms/step\n",
            "1/1 [==============================] - 0s 31ms/step\n",
            "1/1 [==============================] - 0s 35ms/step\n",
            "1/1 [==============================] - 0s 29ms/step\n",
            "1/1 [==============================] - 0s 31ms/step\n",
            "1/1 [==============================] - 0s 37ms/step\n",
            "1/1 [==============================] - 0s 32ms/step\n",
            "437/437 [==============================] - 2s 5ms/step\n"
          ]
        },
        {
          "name": "stderr",
          "output_type": "stream",
          "text": [
            "/usr/local/lib/python3.10/dist-packages/keras/src/optimizers/legacy/rmsprop.py:144: UserWarning: The `lr` argument is deprecated, use `learning_rate` instead.\n",
            "  super().__init__(name, **kwargs)\n"
          ]
        },
        {
          "name": "stdout",
          "output_type": "stream",
          "text": [
            "1/1 [==============================] - 0s 108ms/step\n",
            "1/1 [==============================] - 0s 21ms/step\n",
            "1/1 [==============================] - 0s 21ms/step\n",
            "1/1 [==============================] - 0s 21ms/step\n",
            "1/1 [==============================] - 0s 22ms/step\n",
            "1/1 [==============================] - 0s 21ms/step\n",
            "1/1 [==============================] - 0s 22ms/step\n",
            "1/1 [==============================] - 0s 22ms/step\n",
            "1/1 [==============================] - 0s 25ms/step\n",
            "1/1 [==============================] - 0s 21ms/step\n",
            "437/437 [==============================] - 2s 4ms/step\n"
          ]
        },
        {
          "name": "stderr",
          "output_type": "stream",
          "text": [
            "/usr/local/lib/python3.10/dist-packages/keras/src/optimizers/legacy/rmsprop.py:144: UserWarning: The `lr` argument is deprecated, use `learning_rate` instead.\n",
            "  super().__init__(name, **kwargs)\n"
          ]
        },
        {
          "name": "stdout",
          "output_type": "stream",
          "text": [
            "1/1 [==============================] - 0s 118ms/step\n",
            "1/1 [==============================] - 0s 20ms/step\n",
            "1/1 [==============================] - 0s 32ms/step\n",
            "1/1 [==============================] - 0s 28ms/step\n",
            "1/1 [==============================] - 0s 30ms/step\n",
            "1/1 [==============================] - 0s 30ms/step\n",
            "1/1 [==============================] - 0s 31ms/step\n",
            "1/1 [==============================] - 0s 37ms/step\n",
            "1/1 [==============================] - 0s 28ms/step\n",
            "1/1 [==============================] - 0s 28ms/step\n",
            "438/438 [==============================] - 3s 5ms/step\n"
          ]
        },
        {
          "name": "stderr",
          "output_type": "stream",
          "text": [
            "/usr/local/lib/python3.10/dist-packages/keras/src/optimizers/legacy/rmsprop.py:144: UserWarning: The `lr` argument is deprecated, use `learning_rate` instead.\n",
            "  super().__init__(name, **kwargs)\n"
          ]
        },
        {
          "name": "stdout",
          "output_type": "stream",
          "text": [
            "1/1 [==============================] - 0s 113ms/step\n",
            "1/1 [==============================] - 0s 20ms/step\n",
            "1/1 [==============================] - 0s 20ms/step\n",
            "1/1 [==============================] - 0s 21ms/step\n",
            "1/1 [==============================] - 0s 20ms/step\n",
            "1/1 [==============================] - 0s 40ms/step\n",
            "1/1 [==============================] - 0s 22ms/step\n",
            "1/1 [==============================] - 0s 20ms/step\n",
            "1/1 [==============================] - 0s 20ms/step\n",
            "1/1 [==============================] - 0s 25ms/step\n",
            "438/438 [==============================] - 2s 4ms/step\n"
          ]
        },
        {
          "name": "stderr",
          "output_type": "stream",
          "text": [
            "/usr/local/lib/python3.10/dist-packages/keras/src/optimizers/legacy/rmsprop.py:144: UserWarning: The `lr` argument is deprecated, use `learning_rate` instead.\n",
            "  super().__init__(name, **kwargs)\n"
          ]
        },
        {
          "name": "stdout",
          "output_type": "stream",
          "text": [
            "1/1 [==============================] - 0s 113ms/step\n",
            "1/1 [==============================] - 0s 33ms/step\n",
            "1/1 [==============================] - 0s 32ms/step\n",
            "1/1 [==============================] - 0s 46ms/step\n",
            "1/1 [==============================] - 0s 33ms/step\n",
            "1/1 [==============================] - 0s 35ms/step\n",
            "1/1 [==============================] - 0s 39ms/step\n",
            "1/1 [==============================] - 0s 31ms/step\n",
            "1/1 [==============================] - 0s 33ms/step\n",
            "1/1 [==============================] - 0s 33ms/step\n",
            "438/438 [==============================] - 2s 5ms/step\n"
          ]
        },
        {
          "name": "stderr",
          "output_type": "stream",
          "text": [
            "/usr/local/lib/python3.10/dist-packages/keras/src/optimizers/legacy/rmsprop.py:144: UserWarning: The `lr` argument is deprecated, use `learning_rate` instead.\n",
            "  super().__init__(name, **kwargs)\n"
          ]
        },
        {
          "name": "stdout",
          "output_type": "stream",
          "text": [
            "1/1 [==============================] - 0s 121ms/step\n",
            "1/1 [==============================] - 0s 22ms/step\n",
            "1/1 [==============================] - 0s 22ms/step\n",
            "1/1 [==============================] - 0s 25ms/step\n",
            "1/1 [==============================] - 0s 30ms/step\n",
            "1/1 [==============================] - 0s 21ms/step\n",
            "1/1 [==============================] - 0s 22ms/step\n",
            "1/1 [==============================] - 0s 21ms/step\n",
            "1/1 [==============================] - 0s 20ms/step\n",
            "1/1 [==============================] - 0s 27ms/step\n",
            "438/438 [==============================] - 2s 4ms/step\n"
          ]
        },
        {
          "name": "stderr",
          "output_type": "stream",
          "text": [
            "/usr/local/lib/python3.10/dist-packages/keras/src/optimizers/legacy/rmsprop.py:144: UserWarning: The `lr` argument is deprecated, use `learning_rate` instead.\n",
            "  super().__init__(name, **kwargs)\n"
          ]
        },
        {
          "name": "stdout",
          "output_type": "stream",
          "text": [
            "1/1 [==============================] - 0s 118ms/step\n",
            "1/1 [==============================] - 0s 30ms/step\n",
            "1/1 [==============================] - 0s 32ms/step\n",
            "1/1 [==============================] - 0s 34ms/step\n",
            "1/1 [==============================] - 0s 30ms/step\n",
            "1/1 [==============================] - 0s 32ms/step\n",
            "1/1 [==============================] - 0s 28ms/step\n",
            "1/1 [==============================] - 0s 35ms/step\n",
            "1/1 [==============================] - 0s 29ms/step\n",
            "1/1 [==============================] - 0s 29ms/step\n",
            "438/438 [==============================] - 2s 5ms/step\n"
          ]
        },
        {
          "name": "stderr",
          "output_type": "stream",
          "text": [
            "/usr/local/lib/python3.10/dist-packages/keras/src/optimizers/legacy/rmsprop.py:144: UserWarning: The `lr` argument is deprecated, use `learning_rate` instead.\n",
            "  super().__init__(name, **kwargs)\n"
          ]
        },
        {
          "name": "stdout",
          "output_type": "stream",
          "text": [
            "1/1 [==============================] - 0s 118ms/step\n",
            "1/1 [==============================] - 0s 20ms/step\n",
            "1/1 [==============================] - 0s 19ms/step\n",
            "1/1 [==============================] - 0s 25ms/step\n",
            "1/1 [==============================] - 0s 20ms/step\n",
            "1/1 [==============================] - 0s 22ms/step\n",
            "1/1 [==============================] - 0s 20ms/step\n",
            "1/1 [==============================] - 0s 21ms/step\n",
            "1/1 [==============================] - 0s 21ms/step\n",
            "1/1 [==============================] - 0s 21ms/step\n",
            "438/438 [==============================] - 2s 4ms/step\n"
          ]
        },
        {
          "name": "stderr",
          "output_type": "stream",
          "text": [
            "/usr/local/lib/python3.10/dist-packages/keras/src/optimizers/legacy/rmsprop.py:144: UserWarning: The `lr` argument is deprecated, use `learning_rate` instead.\n",
            "  super().__init__(name, **kwargs)\n"
          ]
        },
        {
          "name": "stdout",
          "output_type": "stream",
          "text": [
            "1/1 [==============================] - 0s 110ms/step\n",
            "1/1 [==============================] - 0s 35ms/step\n",
            "1/1 [==============================] - 0s 49ms/step\n",
            "1/1 [==============================] - 0s 56ms/step\n",
            "1/1 [==============================] - 0s 43ms/step\n",
            "1/1 [==============================] - 0s 43ms/step\n",
            "1/1 [==============================] - 0s 37ms/step\n",
            "1/1 [==============================] - 0s 34ms/step\n",
            "1/1 [==============================] - 0s 28ms/step\n",
            "1/1 [==============================] - 0s 44ms/step\n",
            "438/438 [==============================] - 3s 6ms/step\n"
          ]
        },
        {
          "name": "stderr",
          "output_type": "stream",
          "text": [
            "/usr/local/lib/python3.10/dist-packages/keras/src/optimizers/legacy/rmsprop.py:144: UserWarning: The `lr` argument is deprecated, use `learning_rate` instead.\n",
            "  super().__init__(name, **kwargs)\n"
          ]
        },
        {
          "name": "stdout",
          "output_type": "stream",
          "text": [
            "1/1 [==============================] - 0s 109ms/step\n",
            "1/1 [==============================] - 0s 22ms/step\n",
            "1/1 [==============================] - 0s 24ms/step\n",
            "1/1 [==============================] - 0s 20ms/step\n",
            "1/1 [==============================] - 0s 21ms/step\n",
            "1/1 [==============================] - 0s 23ms/step\n",
            "1/1 [==============================] - 0s 20ms/step\n",
            "1/1 [==============================] - 0s 20ms/step\n",
            "1/1 [==============================] - 0s 21ms/step\n",
            "1/1 [==============================] - 0s 22ms/step\n",
            "438/438 [==============================] - 2s 4ms/step\n"
          ]
        }
      ],
      "source": [
        "# Khai báo các hằng số\n",
        "BATCH_SIZE = 32\n",
        "LATENT_DIM = 128\n",
        "NUM_EPOCHS = 10\n",
        "SAMPLES_TO_GENERATE = int(t * 0.7)\n",
        "\n",
        "# Định nghĩa mô hình Generator\n",
        "def build_generator():\n",
        "    noise = layers.Input(shape=(LATENT_DIM,))\n",
        "    x = layers.Dense(256, activation=\"relu\")(noise)\n",
        "    x = layers.BatchNormalization()(x)\n",
        "    x = layers.Dense(512, activation=\"relu\")(x)\n",
        "    x = layers.BatchNormalization()(x)\n",
        "    x = layers.Dense(1024, activation=\"relu\")(x)\n",
        "    x = layers.BatchNormalization()(x)\n",
        "    x = layers.Dense(np.prod(X_train.shape[1:]), activation=None)(x)\n",
        "    samp = layers.Reshape(X_train.shape[1:])(x)\n",
        "    return Model(noise, samp)\n",
        "\n",
        "# Định nghĩa mô hình Discriminator\n",
        "def build_discriminator():\n",
        "    samp = layers.Input(shape=X_train.shape[1:])\n",
        "    x = layers.Flatten()(samp)\n",
        "    x = layers.Dense(512, activation=\"relu\")(x)\n",
        "    x = layers.Dense(256, activation=\"relu\")(x)\n",
        "    x = layers.Dense(1)(x)\n",
        "    return Model(samp, x)\n",
        "\n",
        "\n",
        "# Hàm để sinh dữ liệu\n",
        "def generate_data_for_class(label):\n",
        "    global X_train_balanced, y_train_balanced, X_train, y_train\n",
        "    current_data = X_train[y_train == label]\n",
        "    current_samples = current_data.shape[0]\n",
        "    samples_needed = SAMPLES_TO_GENERATE - current_samples\n",
        "\n",
        "    X_train_balanced = np.concatenate([X_train_balanced, current_data], axis=0)\n",
        "    y_train_balanced = np.concatenate([y_train_balanced, np.full(current_samples, label)], axis=0)\n",
        "\n",
        "    if samples_needed > 0:\n",
        "        noise = np.random.normal(0, 1, (samples_needed, LATENT_DIM))\n",
        "        generated_samples = generator.predict(noise)\n",
        "\n",
        "        # Gộp dữ liệu sinh ra vào X_train và y_train\n",
        "        X_train_balanced = np.concatenate([X_train_balanced, generated_samples], axis=0)\n",
        "        y_train_balanced = np.concatenate([y_train_balanced, np.full(samples_needed, label)], axis=0)\n",
        "\n",
        "# Huấn luyện WGAN cho mỗi class thiểu số\n",
        "for label in Smin:\n",
        "\n",
        "    # Tối ưu hoá và loss function\n",
        "    optimizer = legacy.RMSprop(lr=0.00005)\n",
        "\n",
        "    generator = build_generator()\n",
        "    discriminator = build_discriminator()\n",
        "\n",
        "    discriminator.compile(loss='binary_crossentropy', optimizer=optimizer, metrics=['accuracy'])\n",
        "    discriminator.trainable = False\n",
        "\n",
        "    noise = layers.Input(shape=(LATENT_DIM,))\n",
        "    samp = generator(noise)\n",
        "    validity = discriminator(samp)\n",
        "    combined = Model(noise, validity)\n",
        "    combined.compile(loss='binary_crossentropy', optimizer=optimizer)\n",
        "\n",
        "    data = X_train[y_train == label]\n",
        "    valid = np.ones((BATCH_SIZE, 1))\n",
        "    fake = -np.ones((BATCH_SIZE, 1))\n",
        "\n",
        "    for epoch in range(NUM_EPOCHS):\n",
        "        idx = np.random.randint(0, data.shape[0], BATCH_SIZE)\n",
        "        real_samp = data.iloc[idx]\n",
        "\n",
        "        noise = np.random.normal(0, 1, (BATCH_SIZE, LATENT_DIM))\n",
        "        gen_samp = generator.predict(noise)\n",
        "\n",
        "        d_loss_real = discriminator.train_on_batch(real_samp, valid)\n",
        "        d_loss_fake = discriminator.train_on_batch(gen_samp, fake)\n",
        "        d_loss = 0.5 * np.add(d_loss_real, d_loss_fake)\n",
        "\n",
        "        g_loss = combined.train_on_batch(noise, valid)\n",
        "\n",
        "    generate_data_for_class(label)  # Sinh dữ liệu cho class hiện tại"
      ]
    },
    {
      "cell_type": "code",
      "execution_count": 10,
      "metadata": {
        "colab": {
          "base_uri": "https://localhost:8080/"
        },
        "id": "t87p0kRWj7UU",
        "outputId": "500e45f4-20ac-47e5-be1f-01e627b31598"
      },
      "outputs": [
        {
          "name": "stdout",
          "output_type": "stream",
          "text": [
            "back: 14000\n",
            "buffer_overflow: 14000\n",
            "ftp_write: 14000\n",
            "guess_passwd: 14000\n",
            "imap: 14000\n",
            "ipsweep: 14000\n",
            "land: 14000\n",
            "loadmodule: 14000\n",
            "multihop: 14000\n",
            "neptune: 14000\n",
            "nmap: 14000\n",
            "normal: 14000\n",
            "perl: 14000\n",
            "phf: 14000\n",
            "pod: 14000\n",
            "portsweep: 14000\n",
            "rootkit: 14000\n",
            "satan: 14000\n",
            "smurf: 14000\n",
            "spy: 14000\n",
            "teardrop: 14000\n",
            "warezclient: 14000\n",
            "warezmaster: 14000\n"
          ]
        }
      ],
      "source": [
        "unique_values, counts = np.unique(y_train_balanced, return_counts=True)\n",
        "\n",
        "# Hiển thị các giá trị và tần suất xuất hiện tương ứng\n",
        "for value, count in zip(unique_values, counts):\n",
        "    print(f'{value}: {count}')"
      ]
    },
    {
      "cell_type": "code",
      "execution_count": 11,
      "metadata": {
        "id": "Q40chtMWk_Bp"
      },
      "outputs": [],
      "source": [
        "# Giam du lieu X_test, y_test bang cach chon ngau nhien\n",
        "\n",
        "def reduce_data(X_test, y_test, n):\n",
        "    unique_classes = np.unique(y_test)\n",
        "    X_test_reduced = np.empty((0, X_test.shape[1]))\n",
        "    y_test_reduced = np.array([])\n",
        "\n",
        "    for label in unique_classes:\n",
        "        indices = np.where(y_test == label)[0]\n",
        "        if len(indices) > n:\n",
        "            indices = np.random.choice(indices, n, replace=False)\n",
        "        X_subset = X_test.iloc[indices]\n",
        "        y_subset = y_test.iloc[indices]\n",
        "\n",
        "        X_test_reduced = np.vstack((X_test_reduced, X_subset))\n",
        "        y_test_reduced = np.concatenate((y_test_reduced, y_subset))\n",
        "\n",
        "    return X_test_reduced, y_test_reduced\n",
        "\n",
        "X_test_reduced, y_test_reduced = reduce_data(X_test, y_test, int(t * 0.3))"
      ]
    },
    {
      "cell_type": "code",
      "execution_count": 12,
      "metadata": {
        "colab": {
          "base_uri": "https://localhost:8080/"
        },
        "id": "5MGeMq2RlIsB",
        "outputId": "0bab7b2f-8fc2-44b5-d2b0-0dd1252a695c"
      },
      "outputs": [
        {
          "name": "stdout",
          "output_type": "stream",
          "text": [
            "apache2: 737\n",
            "back: 359\n",
            "buffer_overflow: 20\n",
            "ftp_write: 3\n",
            "guess_passwd: 1231\n",
            "httptunnel: 133\n",
            "imap: 1\n",
            "ipsweep: 141\n",
            "land: 7\n",
            "loadmodule: 2\n",
            "mailbomb: 293\n",
            "mscan: 996\n",
            "multihop: 18\n",
            "named: 17\n",
            "neptune: 4656\n",
            "nmap: 73\n",
            "normal: 6000\n",
            "perl: 2\n",
            "phf: 2\n",
            "pod: 41\n",
            "portsweep: 157\n",
            "processtable: 685\n",
            "ps: 15\n",
            "rootkit: 13\n",
            "saint: 319\n",
            "satan: 735\n",
            "sendmail: 14\n",
            "smurf: 665\n",
            "snmpgetattack: 178\n",
            "snmpguess: 331\n",
            "sqlattack: 2\n",
            "teardrop: 12\n",
            "udpstorm: 2\n",
            "warezmaster: 944\n",
            "worm: 2\n",
            "xlock: 9\n",
            "xsnoop: 4\n",
            "xterm: 13\n"
          ]
        }
      ],
      "source": [
        "unique_values, counts = np.unique(y_test_reduced, return_counts=True)\n",
        "\n",
        "# Hiển thị các giá trị và tần suất xuất hiện tương ứng\n",
        "for value, count in zip(unique_values, counts):\n",
        "    print(f'{value}: {count}')"
      ]
    },
    {
      "cell_type": "code",
      "execution_count": 15,
      "metadata": {
        "id": "7IQoxS9glN1Y"
      },
      "outputs": [],
      "source": [
        "# Lưu dữ liệu vào file\n",
        "data = {\n",
        "    'X_train': X_train_balanced,\n",
        "    'X_test': X_test_reduced,\n",
        "    'y_train': y_train_balanced,\n",
        "    'y_test': y_test_reduced\n",
        "}\n",
        "\n",
        "with open('nsl-kdd-balanced.pkl', 'wb') as file:\n",
        "    pickle.dump(data, file)"
      ]
    }
  ],
  "metadata": {
    "colab": {
      "provenance": []
    },
    "kernelspec": {
      "display_name": "Python 3",
      "name": "python3"
    },
    "language_info": {
      "name": "python"
    }
  },
  "nbformat": 4,
  "nbformat_minor": 0
}
